{
 "cells": [
  {
   "cell_type": "code",
   "execution_count": 1,
   "metadata": {
    "cellId": "81lygumfjtfikxwh3ayxd",
    "colab": {
     "base_uri": "https://localhost:8080/"
    },
    "id": "zHmmQuAZ9GS8",
    "outputId": "aa25b2a3-cde1-45f0-f43b-7bfcb0060d41"
   },
   "outputs": [
    {
     "name": "stdout",
     "output_type": "stream",
     "text": [
      "[Errno 2] No such file or directory: 'dla/hw2_kws'\n",
      "/home/jupyter/work/resources/dla/hw2_kws\n"
     ]
    }
   ],
   "source": [
    "#!c1.8\n",
    "%cd dla/hw2_kws"
   ]
  },
  {
   "cell_type": "markdown",
   "metadata": {
    "cellId": "geshvm8r8rz34mhn4npzs",
    "id": "_lhrn5O-qUYZ"
   },
   "source": [
    "# Import and misc"
   ]
  },
  {
   "cell_type": "code",
   "execution_count": null,
   "metadata": {
    "cellId": "3m2tnld195h41mxh958e85",
    "id": "meO-Mp9jiAFC"
   },
   "outputs": [],
   "source": [
    "# Instal latest torch and torchaudio"
   ]
  },
  {
   "cell_type": "code",
   "execution_count": 3,
   "metadata": {
    "cellId": "dtkqsvchrhavf3i3079kc",
    "id": "bbUpoArCqUYa"
   },
   "outputs": [],
   "source": [
    "#!c1.8\n",
    "from typing import Tuple, Union, List, Callable, Optional\n",
    "from tqdm import tqdm\n",
    "from itertools import islice\n",
    "import pathlib\n",
    "import dataclasses\n",
    "import random\n",
    "\n",
    "import numpy as np\n",
    "import pandas as pd\n",
    "\n",
    "import torch\n",
    "import torch.nn.functional as F\n",
    "from torch import nn\n",
    "from torch import distributions\n",
    "from torch.utils.data import DataLoader, Dataset, WeightedRandomSampler\n",
    "from torch.nn.utils.rnn import pad_sequence\n",
    "\n",
    "import torchaudio\n",
    "from IPython import display as display_\n",
    "\n",
    "def setup_seed(seed):\n",
    "    random.seed(seed)\n",
    "    np.random.seed(seed)\n",
    "    torch.manual_seed(seed)\n",
    "    if torch.cuda.is_available():\n",
    "        torch.cuda.manual_seed_all(seed)\n",
    "        torch.backends.cudnn.deterministic = True\n",
    "        torch.backends.cudnn.benchmark = False"
   ]
  },
  {
   "cell_type": "markdown",
   "metadata": {
    "cellId": "l01trt3lk0gg5fpy390qg",
    "id": "812GwLfqqUYf"
   },
   "source": [
    "# Task"
   ]
  },
  {
   "cell_type": "markdown",
   "metadata": {
    "cellId": "elkuyd9c3dl5aetd8u7spu",
    "id": "i1DuQIyRqUYf"
   },
   "source": [
    "In this notebook we will implement a model for finding a keyword in a stream.\n",
    "\n",
    "We will implement the version with CRNN because it is easy and improves the model. \n",
    "(from https://www.dropbox.com/s/22ah2ba7dug6pzw/KWS_Attention.pdf)"
   ]
  },
  {
   "cell_type": "code",
   "execution_count": 4,
   "metadata": {
    "cellId": "gzj2qi9zu2eewdxps5o88",
    "id": "8PdhApeEh9pH"
   },
   "outputs": [],
   "source": [
    "#!c1.8\n",
    "@dataclasses.dataclass\n",
    "class TaskConfig:\n",
    "    keyword: str = 'sheila'  # We will use 1 key word -- 'sheila'\n",
    "    batch_size: int = 128\n",
    "    learning_rate: float = 3e-4\n",
    "    weight_decay: float = 1e-5\n",
    "    num_epochs: int = 20\n",
    "    n_mels: int = 40\n",
    "    cnn_out_channels: int = 8\n",
    "    kernel_size: Tuple[int, int] = (5, 20)\n",
    "    stride: Tuple[int, int] = (2, 8)\n",
    "    hidden_size: int = 64\n",
    "    gru_num_layers: int = 2\n",
    "    bidirectional: bool = False\n",
    "    num_classes: int = 2\n",
    "    sample_rate: int = 16000\n",
    "    device: torch.device = torch.device(\n",
    "        'cuda:0' if torch.cuda.is_available() else 'cpu')"
   ]
  },
  {
   "cell_type": "markdown",
   "metadata": {
    "cellId": "fxequu3u6cnsvh87exsj1",
    "id": "KA1gPmE1h9pI"
   },
   "source": [
    "# Data"
   ]
  },
  {
   "cell_type": "code",
   "execution_count": 57,
   "metadata": {
    "cellId": "e2zlukmiqnfloyslmsu83f",
    "colab": {
     "base_uri": "https://localhost:8080/"
    },
    "collapsed": true,
    "id": "Y2N8zcx9MF1X",
    "jupyter": {
     "outputs_hidden": true
    },
    "outputId": "23406b6b-4f93-43db-cc60-af3d308228dc"
   },
   "outputs": [
    {
     "name": "stdout",
     "output_type": "stream",
     "text": [
      "--2022-11-06 17:19:51--  http://download.tensorflow.org/data/speech_commands_v0.01.tar.gz\n",
      "Resolving download.tensorflow.org (download.tensorflow.org)... 142.250.145.128, 2a00:1450:4013:c01::80\n",
      "Connecting to download.tensorflow.org (download.tensorflow.org)|142.250.145.128|:80... connected.\n",
      "HTTP request sent, awaiting response... 200 OK\n",
      "Length: 1489096277 (1.4G) [application/gzip]\n",
      "Saving to: ‘speech_commands_v0.01.tar.gz’\n",
      "\n",
      "speech_commands_v0. 100%[===================>]   1.39G  60.1MB/s    in 11s     \n",
      "\n",
      "2022-11-06 17:20:02 (132 MB/s) - ‘speech_commands_v0.01.tar.gz’ saved [1489096277/1489096277]\n",
      "\n"
     ]
    }
   ],
   "source": [
    "!wget http://download.tensorflow.org/data/speech_commands_v0.01.tar.gz -O speech_commands_v0.01.tar.gz\n",
    "!mkdir speech_commands && tar -C speech_commands -xvzf speech_commands_v0.01.tar.gz 1> log"
   ]
  },
  {
   "cell_type": "code",
   "execution_count": 5,
   "metadata": {
    "cellId": "kxcd2ek10iog7zucac6lm",
    "id": "12wBTK0mNUsG"
   },
   "outputs": [],
   "source": [
    "#!c1.8\n",
    "class SpeechCommandDataset(Dataset):\n",
    "\n",
    "    def __init__(\n",
    "        self,\n",
    "        transform: Optional[Callable] = None,\n",
    "        path2dir: str = None,\n",
    "        keywords: Union[str, List[str]] = None,\n",
    "        csv: Optional[pd.DataFrame] = None\n",
    "    ):        \n",
    "        self.transform = transform\n",
    "\n",
    "        if csv is None:\n",
    "            path2dir = pathlib.Path(path2dir)\n",
    "            keywords = keywords if isinstance(keywords, list) else [keywords]\n",
    "            \n",
    "            all_keywords = [\n",
    "                p.stem for p in path2dir.glob('*')\n",
    "                if p.is_dir() and not p.stem.startswith('_')\n",
    "            ]\n",
    "\n",
    "            triplets = []\n",
    "            for keyword in all_keywords:\n",
    "                paths = (path2dir / keyword).rglob('*.wav')\n",
    "                if keyword in keywords:\n",
    "                    for path2wav in paths:\n",
    "                        triplets.append((path2wav.as_posix(), keyword, 1))\n",
    "                else:\n",
    "                    for path2wav in paths:\n",
    "                        triplets.append((path2wav.as_posix(), keyword, 0))\n",
    "            \n",
    "            self.csv = pd.DataFrame(\n",
    "                triplets,\n",
    "                columns=['path', 'keyword', 'label']\n",
    "            )\n",
    "\n",
    "        else:\n",
    "            self.csv = csv\n",
    "    \n",
    "    def __getitem__(self, index: int):\n",
    "        instance = self.csv.iloc[index]\n",
    "\n",
    "        path2wav = instance['path']\n",
    "        wav, sr = torchaudio.load(path2wav)\n",
    "        wav = wav.sum(dim=0)\n",
    "        \n",
    "        if self.transform:\n",
    "            wav = self.transform(wav)\n",
    "\n",
    "        return {\n",
    "            'wav': wav,\n",
    "            'keywors': instance['keyword'],\n",
    "            'label': instance['label']\n",
    "        }\n",
    "\n",
    "    def __len__(self):\n",
    "        return len(self.csv)"
   ]
  },
  {
   "cell_type": "code",
   "execution_count": 6,
   "metadata": {
    "cellId": "g0tsvsje1mmz8tg272bdr",
    "id": "-1rVkT81Pk90"
   },
   "outputs": [],
   "source": [
    "#!c1.8\n",
    "dataset = SpeechCommandDataset(\n",
    "    path2dir='speech_commands', keywords=TaskConfig.keyword\n",
    ")"
   ]
  },
  {
   "cell_type": "code",
   "execution_count": 7,
   "metadata": {
    "cellId": "zq8pfeh3igpk0du44ueteg",
    "colab": {
     "base_uri": "https://localhost:8080/",
     "height": 206
    },
    "id": "DFwhAXdfQLIA",
    "outputId": "1747b89c-0b53-4171-d58e-35d0e1222d4a"
   },
   "outputs": [
    {
     "data": {
      "text/html": [
       "<div>\n",
       "<style scoped>\n",
       "    .dataframe tbody tr th:only-of-type {\n",
       "        vertical-align: middle;\n",
       "    }\n",
       "\n",
       "    .dataframe tbody tr th {\n",
       "        vertical-align: top;\n",
       "    }\n",
       "\n",
       "    .dataframe thead th {\n",
       "        text-align: right;\n",
       "    }\n",
       "</style>\n",
       "<table border=\"1\" class=\"dataframe\">\n",
       "  <thead>\n",
       "    <tr style=\"text-align: right;\">\n",
       "      <th></th>\n",
       "      <th>path</th>\n",
       "      <th>keyword</th>\n",
       "      <th>label</th>\n",
       "    </tr>\n",
       "  </thead>\n",
       "  <tbody>\n",
       "    <tr>\n",
       "      <th>21535</th>\n",
       "      <td>speech_commands/go/baeac2ba_nohash_0.wav</td>\n",
       "      <td>go</td>\n",
       "      <td>0</td>\n",
       "    </tr>\n",
       "    <tr>\n",
       "      <th>17825</th>\n",
       "      <td>speech_commands/bed/627c0bec_nohash_0.wav</td>\n",
       "      <td>bed</td>\n",
       "      <td>0</td>\n",
       "    </tr>\n",
       "    <tr>\n",
       "      <th>54628</th>\n",
       "      <td>speech_commands/four/4254621e_nohash_0.wav</td>\n",
       "      <td>four</td>\n",
       "      <td>0</td>\n",
       "    </tr>\n",
       "    <tr>\n",
       "      <th>31277</th>\n",
       "      <td>speech_commands/three/0447d7c1_nohash_0.wav</td>\n",
       "      <td>three</td>\n",
       "      <td>0</td>\n",
       "    </tr>\n",
       "    <tr>\n",
       "      <th>28417</th>\n",
       "      <td>speech_commands/marvin/eb609143_nohash_0.wav</td>\n",
       "      <td>marvin</td>\n",
       "      <td>0</td>\n",
       "    </tr>\n",
       "  </tbody>\n",
       "</table>\n",
       "</div>"
      ],
      "text/plain": [
       "                                               path keyword  label\n",
       "21535      speech_commands/go/baeac2ba_nohash_0.wav      go      0\n",
       "17825     speech_commands/bed/627c0bec_nohash_0.wav     bed      0\n",
       "54628    speech_commands/four/4254621e_nohash_0.wav    four      0\n",
       "31277   speech_commands/three/0447d7c1_nohash_0.wav   three      0\n",
       "28417  speech_commands/marvin/eb609143_nohash_0.wav  marvin      0"
      ]
     },
     "execution_count": 7,
     "metadata": {},
     "output_type": "execute_result"
    }
   ],
   "source": [
    "#!c1.8\n",
    "dataset.csv.sample(5)"
   ]
  },
  {
   "cell_type": "markdown",
   "metadata": {
    "cellId": "6o23dgz6d0x3uu3oph8ux1",
    "execution_id": "c5b2b1cf-d4d1-452c-a63c-ad8f04d702be",
    "id": "LUxfDJw1qUYi"
   },
   "source": [
    "### Augmentations"
   ]
  },
  {
   "cell_type": "code",
   "execution_count": 8,
   "metadata": {
    "cellId": "v33hzxq5z5egek86i7k2iv",
    "id": "dkmkxPWQqUYe"
   },
   "outputs": [],
   "source": [
    "#!c1.8\n",
    "class AugsCreation:\n",
    "\n",
    "    def __init__(self):\n",
    "        self.background_noises = [\n",
    "            'speech_commands/_background_noise_/white_noise.wav',\n",
    "            'speech_commands/_background_noise_/dude_miaowing.wav',\n",
    "            'speech_commands/_background_noise_/doing_the_dishes.wav',\n",
    "            'speech_commands/_background_noise_/exercise_bike.wav',\n",
    "            'speech_commands/_background_noise_/pink_noise.wav',\n",
    "            'speech_commands/_background_noise_/running_tap.wav'\n",
    "        ]\n",
    "\n",
    "        self.noises = [\n",
    "            torchaudio.load(p)[0].squeeze()\n",
    "            for p in self.background_noises\n",
    "        ]\n",
    "\n",
    "    def add_rand_noise(self, audio):\n",
    "\n",
    "        # randomly choose noise\n",
    "        noise_num = torch.randint(low=0, high=len(\n",
    "            self.background_noises), size=(1,)).item()\n",
    "        noise = self.noises[noise_num]\n",
    "\n",
    "        noise_level = torch.Tensor([1])  # [0, 40]\n",
    "\n",
    "        noise_energy = torch.norm(noise)\n",
    "        audio_energy = torch.norm(audio)\n",
    "        alpha = (audio_energy / noise_energy) * \\\n",
    "            torch.pow(10, -noise_level / 20)\n",
    "\n",
    "        start = torch.randint(\n",
    "            low=0,\n",
    "            high=max(int(noise.size(0) - audio.size(0) - 1), 1),\n",
    "            size=(1,)\n",
    "        ).item()\n",
    "        noise_sample = noise[start: start + audio.size(0)]\n",
    "\n",
    "        audio_new = audio + alpha * noise_sample\n",
    "        audio_new.clamp_(-1, 1)\n",
    "        return audio_new\n",
    "\n",
    "    def __call__(self, wav):\n",
    "        aug_num = torch.randint(low=0, high=4, size=(1,)).item()   # choose 1 random aug from augs\n",
    "        augs = [\n",
    "            lambda x: x,\n",
    "            lambda x: (x + distributions.Normal(0, 0.01).sample(x.size())).clamp_(-1, 1),\n",
    "            lambda x: torchaudio.transforms.Vol(.25)(x),\n",
    "            lambda x: self.add_rand_noise(x)\n",
    "        ]\n",
    "\n",
    "        return augs[aug_num](wav)"
   ]
  },
  {
   "cell_type": "code",
   "execution_count": 9,
   "metadata": {
    "cellId": "oi2ejq6pw2c81wqx44m78",
    "id": "ClWThxyYh9pM"
   },
   "outputs": [],
   "source": [
    "#!c1.8\n",
    "setup_seed(42)\n",
    "indexes = torch.randperm(len(dataset))\n",
    "train_indexes = indexes[:int(len(dataset) * 0.8)]\n",
    "val_indexes = indexes[int(len(dataset) * 0.8):]\n",
    "\n",
    "train_df = dataset.csv.iloc[train_indexes].reset_index(drop=True)\n",
    "val_df = dataset.csv.iloc[val_indexes].reset_index(drop=True)"
   ]
  },
  {
   "cell_type": "code",
   "execution_count": 10,
   "metadata": {
    "cellId": "afx9frxf2qw9ex0h7zgw45",
    "id": "PDPLht5fqUYe"
   },
   "outputs": [],
   "source": [
    "#!c1.8\n",
    "# Sample is a dict of utt, word and label\n",
    "train_set = SpeechCommandDataset(csv=train_df, transform=AugsCreation())\n",
    "val_set = SpeechCommandDataset(csv=val_df)"
   ]
  },
  {
   "cell_type": "markdown",
   "metadata": {
    "cellId": "qf1qft95as99vm0bzex8h",
    "execution_id": "9ebffcb4-9fca-45aa-8628-8403347570b6",
    "id": "2vbPDqd6qUYj"
   },
   "source": [
    "### Sampler for oversampling:"
   ]
  },
  {
   "cell_type": "code",
   "execution_count": 11,
   "metadata": {
    "cellId": "9t4jinutyl9ctgsdny5cl",
    "id": "rfnjRKo2qUYj"
   },
   "outputs": [],
   "source": [
    "#!c1.8\n",
    "# We should provide to WeightedRandomSampler _weight for every sample_; by default it is 1/len(target)\n",
    "\n",
    "def get_sampler(target):\n",
    "    class_sample_count = np.array(\n",
    "        [len(np.where(target == t)[0]) for t in np.unique(target)])   # for every class count it's number of occ.\n",
    "    weight = 1. / class_sample_count\n",
    "    samples_weight = np.array([weight[t] for t in target])\n",
    "    samples_weight = torch.from_numpy(samples_weight)\n",
    "    samples_weigth = samples_weight.float()\n",
    "    sampler = WeightedRandomSampler(samples_weight, len(samples_weight))\n",
    "    return sampler"
   ]
  },
  {
   "cell_type": "code",
   "execution_count": 12,
   "metadata": {
    "cellId": "7oe793ckcbw5zmgno5ah4",
    "id": "UM8gLmHeqUYj"
   },
   "outputs": [],
   "source": [
    "#!c1.8\n",
    "train_sampler = get_sampler(train_set.csv['label'].values)"
   ]
  },
  {
   "cell_type": "code",
   "execution_count": 13,
   "metadata": {
    "cellId": "bd2x0wtzh4lmfkbmayrw4h",
    "id": "lyBqbxp0h9pO"
   },
   "outputs": [],
   "source": [
    "#!c1.8\n",
    "class Collator:\n",
    "    \n",
    "    def __call__(self, data):\n",
    "        wavs = []\n",
    "        labels = []    \n",
    "\n",
    "        for el in data:\n",
    "            wavs.append(el['wav'])\n",
    "            labels.append(el['label'])\n",
    "\n",
    "        # torch.nn.utils.rnn.pad_sequence takes list(Tensors) and returns padded (with 0.0) Tensor\n",
    "        wavs = pad_sequence(wavs, batch_first=True)    \n",
    "        labels = torch.Tensor(labels).long()\n",
    "        return wavs, labels"
   ]
  },
  {
   "cell_type": "markdown",
   "metadata": {
    "cellId": "i2py1evejcj2sei99yqcc",
    "execution_id": "293ad3be-22f3-4096-af57-343825b4eba6",
    "id": "e8G9xPRVqUYk"
   },
   "source": [
    "###  Dataloaders"
   ]
  },
  {
   "cell_type": "code",
   "execution_count": 14,
   "metadata": {
    "cellId": "9l22zad7c5kbqk9lvwiej",
    "id": "6wGBMcQiqUYk"
   },
   "outputs": [],
   "source": [
    "#!c1.8\n",
    "# Here we are obliged to use shuffle=False because of our sampler with randomness inside.\n",
    "\n",
    "train_loader = DataLoader(train_set, batch_size=TaskConfig.batch_size,\n",
    "                          shuffle=False, collate_fn=Collator(),\n",
    "                          sampler=train_sampler,\n",
    "                          num_workers=2, pin_memory=True)\n",
    "\n",
    "val_loader = DataLoader(val_set, batch_size=TaskConfig.batch_size,\n",
    "                        shuffle=False, collate_fn=Collator(),\n",
    "                        num_workers=2, pin_memory=True)"
   ]
  },
  {
   "cell_type": "markdown",
   "metadata": {
    "cellId": "5f4bsvbndjetuqfuh9le8",
    "execution_id": "79fca654-044b-41fb-af74-f73bb4837e73",
    "id": "kTlsn6cpqUYk"
   },
   "source": [
    "### Creating MelSpecs on GPU for speeeed: "
   ]
  },
  {
   "cell_type": "code",
   "execution_count": 15,
   "metadata": {
    "cellId": "9uh8hqthxsel04rnyw0dy",
    "id": "pRXMt6it56fW"
   },
   "outputs": [],
   "source": [
    "#!c1.8\n",
    "class LogMelspec:\n",
    "\n",
    "    def __init__(self, is_train, config):\n",
    "        # with augmentations\n",
    "        if is_train:\n",
    "            self.melspec = nn.Sequential(\n",
    "                torchaudio.transforms.MelSpectrogram(\n",
    "                    sample_rate=config.sample_rate,\n",
    "                    n_fft=400,\n",
    "                    win_length=400,\n",
    "                    hop_length=160,\n",
    "                    n_mels=config.n_mels\n",
    "                ),\n",
    "                torchaudio.transforms.FrequencyMasking(freq_mask_param=15),\n",
    "                torchaudio.transforms.TimeMasking(time_mask_param=35),\n",
    "            ).to(config.device)\n",
    "\n",
    "        # no augmentations\n",
    "        else:\n",
    "            self.melspec = torchaudio.transforms.MelSpectrogram(\n",
    "                sample_rate=config.sample_rate,\n",
    "                n_fft=400,\n",
    "                win_length=400,\n",
    "                hop_length=160,\n",
    "                n_mels=config.n_mels\n",
    "            ).to(config.device)\n",
    "\n",
    "    def __call__(self, batch):\n",
    "        # already on device\n",
    "        return torch.log(self.melspec(batch).clamp_(min=1e-9, max=1e9))"
   ]
  },
  {
   "cell_type": "code",
   "execution_count": 16,
   "metadata": {
    "cellId": "5zt5nfed2srlo69mrdyf5",
    "id": "Pqkz4_gn8BiF"
   },
   "outputs": [],
   "source": [
    "#!c1.8\n",
    "melspec_train = LogMelspec(is_train=True, config=TaskConfig)\n",
    "melspec_val = LogMelspec(is_train=False, config=TaskConfig)"
   ]
  },
  {
   "cell_type": "markdown",
   "metadata": {
    "cellId": "rlvm2kbkvmitq70ws4twd",
    "execution_id": "7eb9f918-62ea-4905-b03f-e1f818d2f2c0",
    "id": "zoAxmihY8yxr"
   },
   "source": [
    "### Quality measurment functions:"
   ]
  },
  {
   "cell_type": "code",
   "execution_count": 17,
   "metadata": {
    "cellId": "2egifwx2yjttjqh5bd3lj",
    "id": "euwD1UyuqUYk"
   },
   "outputs": [],
   "source": [
    "#!c1.8\n",
    "# FA - true: 0, model: 1\n",
    "# FR - true: 1, model: 0\n",
    "\n",
    "def count_FA_FR(preds, labels):\n",
    "    FA = torch.sum(preds[labels == 0])\n",
    "    FR = torch.sum(labels[preds == 0])\n",
    "    \n",
    "    # torch.numel - returns total number of elements in tensor\n",
    "    return FA.item() / torch.numel(preds), FR.item() / torch.numel(preds)"
   ]
  },
  {
   "cell_type": "code",
   "execution_count": 18,
   "metadata": {
    "cellId": "8kf4trhkvvt42fx1pzobcj",
    "id": "YHBUrkT1qUYk"
   },
   "outputs": [],
   "source": [
    "#!c1.8\n",
    "def get_au_fa_fr(probs, labels):\n",
    "    sorted_probs, _ = torch.sort(probs)\n",
    "    sorted_probs = torch.cat((torch.Tensor([0]), sorted_probs, torch.Tensor([1])))\n",
    "    labels = torch.cat(labels, dim=0)\n",
    "        \n",
    "    FAs, FRs = [], []\n",
    "    for prob in sorted_probs:\n",
    "        preds = (probs >= prob) * 1\n",
    "        FA, FR = count_FA_FR(preds, labels)        \n",
    "        FAs.append(FA)\n",
    "        FRs.append(FR)\n",
    "    # plt.plot(FAs, FRs)\n",
    "    # plt.show()\n",
    "\n",
    "    # ~ area under curve using trapezoidal rule\n",
    "    return -np.trapz(FRs, x=FAs)"
   ]
  },
  {
   "cell_type": "markdown",
   "metadata": {
    "cellId": "8zpclbwfkpg1xltzcwwst",
    "execution_id": "f52df79c-de68-4ebd-b009-8d5722d002c2",
    "id": "CcEP5cEZqUYl"
   },
   "source": [
    "# Model"
   ]
  },
  {
   "cell_type": "code",
   "execution_count": 19,
   "metadata": {
    "cellId": "y78cvm3igxq6b9e5oyljhw",
    "colab": {
     "base_uri": "https://localhost:8080/"
    },
    "id": "2cP_pFIsy5p2",
    "outputId": "54f19e48-2145-4ac1-9158-e4b3e5c7c26d"
   },
   "outputs": [
    {
     "data": {
      "text/plain": [
       "CRNN(\n",
       "  (conv): Sequential(\n",
       "    (0): Conv2d(1, 8, kernel_size=(5, 20), stride=(2, 8))\n",
       "    (1): Flatten(start_dim=1, end_dim=2)\n",
       "  )\n",
       "  (gru): GRU(144, 64, num_layers=2, batch_first=True, dropout=0.1)\n",
       "  (attention): Attention(\n",
       "    (energy): Sequential(\n",
       "      (0): Linear(in_features=64, out_features=64, bias=True)\n",
       "      (1): Tanh()\n",
       "      (2): Linear(in_features=64, out_features=1, bias=True)\n",
       "    )\n",
       "  )\n",
       "  (classifier): Linear(in_features=64, out_features=2, bias=True)\n",
       ")"
      ]
     },
     "execution_count": 19,
     "metadata": {},
     "output_type": "execute_result"
    }
   ],
   "source": [
    "#!c1.8\n",
    "class Attention(nn.Module):\n",
    "\n",
    "    def __init__(self, hidden_size: int):\n",
    "        super().__init__()\n",
    "\n",
    "        self.energy = nn.Sequential(\n",
    "            nn.Linear(hidden_size, hidden_size),\n",
    "            nn.Tanh(),\n",
    "            nn.Linear(hidden_size, 1)\n",
    "        )\n",
    "    \n",
    "    def forward(self, input):\n",
    "        energy = self.energy(input)\n",
    "        alpha = torch.softmax(energy, dim=-2)\n",
    "        return (input * alpha).sum(dim=-2)\n",
    "\n",
    "class CRNN(nn.Module):\n",
    "\n",
    "    def __init__(self, config: TaskConfig):\n",
    "        super().__init__()\n",
    "        self.config = config\n",
    "\n",
    "        self.conv = nn.Sequential(\n",
    "            nn.Conv2d(\n",
    "                in_channels=1, out_channels=config.cnn_out_channels,\n",
    "                kernel_size=config.kernel_size, stride=config.stride\n",
    "            ),\n",
    "            nn.Flatten(start_dim=1, end_dim=2),\n",
    "        )\n",
    "\n",
    "        self.conv_out_frequency = (config.n_mels - config.kernel_size[0]) // \\\n",
    "            config.stride[0] + 1\n",
    "        \n",
    "        self.gru = nn.GRU(\n",
    "            input_size=self.conv_out_frequency * config.cnn_out_channels,\n",
    "            hidden_size=config.hidden_size,\n",
    "            num_layers=config.gru_num_layers,\n",
    "            dropout=0.1,\n",
    "            bidirectional=config.bidirectional,\n",
    "            batch_first=True\n",
    "        )\n",
    "\n",
    "        self.attention = Attention(config.hidden_size)\n",
    "        self.classifier = nn.Linear(config.hidden_size, config.num_classes)\n",
    "    \n",
    "    def forward(self, input):\n",
    "        input = input.unsqueeze(dim=1)\n",
    "        conv_output = self.conv(input).transpose(-1, -2)\n",
    "        gru_output, _ = self.gru(conv_output)\n",
    "        contex_vector = self.attention(gru_output)\n",
    "        output = self.classifier(contex_vector)\n",
    "        return output\n",
    "\n",
    "config = TaskConfig()\n",
    "model = CRNN(config)\n",
    "model"
   ]
  },
  {
   "cell_type": "code",
   "execution_count": 20,
   "metadata": {
    "cellId": "spc3gzsg69hr1rae88dci",
    "id": "DmmSFvWaqUYn"
   },
   "outputs": [],
   "source": [
    "#!c1.8\n",
    "def train_epoch(model, opt, loader, log_melspec, device):\n",
    "    model.train()\n",
    "    for i, (batch, labels) in tqdm(enumerate(loader), total=len(loader)):\n",
    "        batch, labels = batch.to(device), labels.to(device)\n",
    "        batch = log_melspec(batch)\n",
    "\n",
    "        opt.zero_grad()\n",
    "\n",
    "        # run model # with autocast():\n",
    "        logits = model(batch)\n",
    "        # we need probabilities so we use softmax & CE separately\n",
    "        probs = F.softmax(logits, dim=-1) \n",
    "        loss = F.cross_entropy(logits, labels)\n",
    "\n",
    "        loss.backward()\n",
    "        torch.nn.utils.clip_grad_norm_(model.parameters(), 5)\n",
    "\n",
    "        opt.step()\n",
    "\n",
    "        # logging\n",
    "        argmax_probs = torch.argmax(probs, dim=-1)\n",
    "        FA, FR = count_FA_FR(argmax_probs, labels)\n",
    "        acc = torch.sum(argmax_probs == labels) / torch.numel(argmax_probs)\n",
    "\n",
    "    return acc"
   ]
  },
  {
   "cell_type": "code",
   "execution_count": 21,
   "metadata": {
    "cellId": "wmvzy30z48op6jnchkpyi",
    "id": "UIeRbn4tqUYo"
   },
   "outputs": [],
   "source": [
    "#!c1.8\n",
    "@torch.no_grad()\n",
    "def validation(model, loader, log_melspec, device):\n",
    "    model.eval()\n",
    "\n",
    "    val_losses, accs, FAs, FRs = [], [], [], []\n",
    "    all_probs, all_labels = [], []\n",
    "    for i, (batch, labels) in tqdm(enumerate(loader)):\n",
    "        batch, labels = batch.to(device), labels.to(device)\n",
    "        batch = log_melspec(batch)\n",
    "\n",
    "        output = model(batch)\n",
    "        # we need probabilities so we use softmax & CE separately\n",
    "        probs = F.softmax(output, dim=-1)\n",
    "        loss = F.cross_entropy(output, labels)\n",
    "\n",
    "        # logging\n",
    "        argmax_probs = torch.argmax(probs, dim=-1)\n",
    "        all_probs.append(probs[:, 1].cpu())\n",
    "        all_labels.append(labels.cpu())\n",
    "        val_losses.append(loss.item())\n",
    "        accs.append(\n",
    "            torch.sum(argmax_probs == labels).item() /  # ???\n",
    "            torch.numel(argmax_probs)\n",
    "        )\n",
    "        FA, FR = count_FA_FR(argmax_probs, labels)\n",
    "        FAs.append(FA)\n",
    "        FRs.append(FR)\n",
    "\n",
    "    # area under FA/FR curve for whole loader\n",
    "    au_fa_fr = get_au_fa_fr(torch.cat(all_probs, dim=0).cpu(), all_labels)\n",
    "    return au_fa_fr"
   ]
  },
  {
   "cell_type": "code",
   "execution_count": 22,
   "metadata": {
    "cellId": "c01oy7ejz5o3hjp0g2789",
    "id": "PpyvKwp0k3IU"
   },
   "outputs": [],
   "source": [
    "#!c1.8\n",
    "from collections import defaultdict\n",
    "from IPython.display import clear_output\n",
    "from matplotlib import pyplot as plt\n",
    "\n",
    "history = defaultdict(list)"
   ]
  },
  {
   "cell_type": "markdown",
   "metadata": {
    "cellId": "vb6pnz4nhptk02ev1cmor",
    "execution_id": "1f335e4c-f93f-4580-9a44-005b4df79478",
    "id": "GSNW-nZCJ4Q0"
   },
   "source": [
    "# Training"
   ]
  },
  {
   "cell_type": "code",
   "execution_count": 23,
   "metadata": {
    "cellId": "hpn6y8zlcdg7t8chjjjpi",
    "colab": {
     "base_uri": "https://localhost:8080/"
    },
    "id": "Q8sVpHNoocgA",
    "outputId": "4820a68a-57c0-4a23-803e-e3091a7f64b8"
   },
   "outputs": [
    {
     "name": "stdout",
     "output_type": "stream",
     "text": [
      "CRNN(\n",
      "  (conv): Sequential(\n",
      "    (0): Conv2d(1, 8, kernel_size=(5, 20), stride=(2, 8))\n",
      "    (1): Flatten(start_dim=1, end_dim=2)\n",
      "  )\n",
      "  (gru): GRU(144, 32, num_layers=2, batch_first=True, dropout=0.1)\n",
      "  (attention): Attention(\n",
      "    (energy): Sequential(\n",
      "      (0): Linear(in_features=32, out_features=32, bias=True)\n",
      "      (1): Tanh()\n",
      "      (2): Linear(in_features=32, out_features=1, bias=True)\n",
      "    )\n",
      "  )\n",
      "  (classifier): Linear(in_features=32, out_features=2, bias=True)\n",
      ")\n"
     ]
    }
   ],
   "source": [
    "#!c1.8\n",
    "config = TaskConfig(hidden_size=32)\n",
    "model = CRNN(config).to(config.device)\n",
    "\n",
    "print(model)\n",
    "\n",
    "opt = torch.optim.Adam(\n",
    "    model.parameters(),\n",
    "    lr=config.learning_rate,\n",
    "    weight_decay=config.weight_decay\n",
    ")"
   ]
  },
  {
   "cell_type": "code",
   "execution_count": 24,
   "metadata": {
    "cellId": "vupwz6uursejkjt2yg79fl",
    "colab": {
     "base_uri": "https://localhost:8080/"
    },
    "id": "zedXm9dmINAE",
    "outputId": "c75822ef-279f-43d9-9be6-170f62f25f6b"
   },
   "outputs": [
    {
     "data": {
      "text/plain": [
       "25387"
      ]
     },
     "execution_count": 24,
     "metadata": {},
     "output_type": "execute_result"
    }
   ],
   "source": [
    "#!c1.8\n",
    "sum([p.numel() for p in model.parameters()])"
   ]
  },
  {
   "cell_type": "code",
   "execution_count": null,
   "metadata": {
    "cellId": "su5gtkwfxugruj9m0k42ys",
    "colab": {
     "base_uri": "https://localhost:8080/",
     "height": 296
    },
    "id": "32oooz4lqUYo",
    "outputId": "d3a96d26-1efd-472b-8795-e23d7c682769"
   },
   "outputs": [
    {
     "name": "stdout",
     "output_type": "stream",
     "text": [
      "END OF EPOCH 19\n"
     ]
    },
    {
     "data": {
      "image/png": "[encoded data removed]",
      "text/plain": [
       "<Figure size 432x288 with 1 Axes>"
      ]
     },
     "metadata": {
      "needs_background": "light"
     },
     "output_type": "display_data"
    }
   ],
   "source": [
    "#!c1.8\n",
    "# TRAIN\n",
    "\n",
    "for n in range(TaskConfig.num_epochs):\n",
    "\n",
    "    train_epoch(model, opt, train_loader,\n",
    "                melspec_train, config.device)\n",
    "\n",
    "    au_fa_fr = validation(model, val_loader,\n",
    "                          melspec_val, config.device)\n",
    "    history['val_metric'].append(au_fa_fr)\n",
    "\n",
    "    clear_output()\n",
    "    plt.plot(history['val_metric'])\n",
    "    plt.ylabel('Metric')\n",
    "    plt.xlabel('Epoch')\n",
    "    plt.grid()\n",
    "    plt.show()\n",
    "\n",
    "    print('END OF EPOCH', n)"
   ]
  },
  {
   "cell_type": "code",
   "execution_count": null,
   "metadata": {
    "cellId": "dhpj8lg7eso459jy6heg1a",
    "id": "1T-aVOpy6crw"
   },
   "outputs": [],
   "source": [
    "#!c1.8\n",
    "#save_dict = model.state_dict()\n",
    "#torch.save(save_dict, 'baseline.pt')"
   ]
  },
  {
   "cell_type": "code",
   "execution_count": 24,
   "metadata": {
    "cellId": "809dpogabp2c17tlquc7mb",
    "colab": {
     "base_uri": "https://localhost:8080/"
    },
    "id": "y_n3k8Mh6crw",
    "outputId": "e68d2f5a-54d5-493e-e0c0-ee6ef2042e37"
   },
   "outputs": [
    {
     "data": {
      "text/plain": [
       "<All keys matched successfully>"
      ]
     },
     "metadata": {},
     "output_type": "display_data"
    }
   ],
   "source": [
    "#!c1.8\n",
    "ckpt = torch.load('baseline.pt')\n",
    "model.load_state_dict(ckpt)"
   ]
  },
  {
   "cell_type": "code",
   "execution_count": 78,
   "metadata": {
    "cellId": "ysrgzmyrh0pmyi0opk6m8",
    "colab": {
     "base_uri": "https://localhost:8080/"
    },
    "id": "fm1LbSCX6crw",
    "outputId": "771da3fc-8f39-428c-8ec9-f1c8eee9e35d"
   },
   "outputs": [
    {
     "name": "stderr",
     "output_type": "stream",
     "text": [
      "102it [00:05, 17.78it/s]\n"
     ]
    },
    {
     "data": {
      "text/plain": [
       "1.2919740513128531e-05"
      ]
     },
     "metadata": {},
     "output_type": "display_data"
    }
   ],
   "source": [
    "#!c1.8\n",
    "validation(model, val_loader, melspec_val, config.device)"
   ]
  },
  {
   "cell_type": "markdown",
   "metadata": {
    "cellId": "ihz4i8zixfh7jxvhk7mc",
    "id": "VbPuVAZnQ8UP"
   },
   "source": [
    "# Base metrics"
   ]
  },
  {
   "cell_type": "code",
   "execution_count": 25,
   "metadata": {
    "cellId": "y8xh0ljibvh3ym56jadifc",
    "id": "PahZurKOQ-m1"
   },
   "outputs": [],
   "source": [
    "#!c1.8\n",
    "import time\n",
    "\n",
    "\n",
    "class Timer:\n",
    "\n",
    "    def __init__(self, name: str, verbose=False):\n",
    "        self.name = name\n",
    "        self.verbose = verbose\n",
    "\n",
    "    def __enter__(self):\n",
    "        self.t = time.time()\n",
    "        return self\n",
    "\n",
    "    def __exit__(self, type, value, traceback):\n",
    "        self.t = time.time() - self.t\n",
    "\n",
    "        if self.verbose:\n",
    "            print(f\"{self.name.capitalize()} | Elapsed time : {self.t:.2f}\")"
   ]
  },
  {
   "cell_type": "code",
   "execution_count": 26,
   "metadata": {
    "cellId": "1v2jqtfzk3b0yncvunju36n",
    "colab": {
     "base_uri": "https://localhost:8080/"
    },
    "id": "soQjgnPfRPG-",
    "outputId": "eea86411-964c-4c3d-8296-aac38d1c08ba"
   },
   "outputs": [
    {
     "name": "stdout",
     "output_type": "stream",
     "text": [
      "[INFO] Register count_convNd() for <class 'torch.nn.modules.conv.Conv2d'>.\n",
      "[INFO] Register zero_ops() for <class 'torch.nn.modules.container.Sequential'>.\n",
      "[INFO] Register count_gru() for <class 'torch.nn.modules.rnn.GRU'>.\n",
      "[INFO] Register count_linear() for <class 'torch.nn.modules.linear.Linear'>.\n"
     ]
    },
    {
     "data": {
      "text/plain": [
       "(55382016.0, 25387.0)"
      ]
     },
     "execution_count": 26,
     "metadata": {},
     "output_type": "execute_result"
    }
   ],
   "source": [
    "#!c1.8\n",
    "from thop import profile  \n",
    "\n",
    "batch, labels = next(train_loader.__iter__())\n",
    "batch, labels = batch.to(config.device), labels.to(config.device)\n",
    "batch = melspec_train(batch)\n",
    "profile(model, (batch, ))"
   ]
  },
  {
   "cell_type": "code",
   "execution_count": 27,
   "metadata": {
    "cellId": "ff7ycbb6zmbo3iei8g8tj",
    "id": "3o-G101i6crx"
   },
   "outputs": [],
   "source": [
    "#!c1.8\n",
    "MACS_CNT = 55382016.0"
   ]
  },
  {
   "cell_type": "code",
   "execution_count": 28,
   "metadata": {
    "cellId": "86s1q4u2gue9e5wehfl40h",
    "id": "wLAWWPjRRd5h"
   },
   "outputs": [],
   "source": [
    "#!c1.8\n",
    "import tempfile\n",
    "\n",
    "def get_size_in_megabytes(model):\n",
    "    # https://pytorch.org/tutorials/recipes/recipes/dynamic_quantization.html#look-at-model-size\n",
    "    with tempfile.TemporaryFile() as f:\n",
    "        torch.save(model.state_dict(), f)\n",
    "        size = f.tell() / 2**20\n",
    "    return size"
   ]
  },
  {
   "cell_type": "code",
   "execution_count": 29,
   "metadata": {
    "cellId": "0aso7j854ikgzcndodb8uy",
    "colab": {
     "base_uri": "https://localhost:8080/"
    },
    "id": "BgF254mn6crx",
    "outputId": "339271d1-6741-43fa-813c-65348db1740d"
   },
   "outputs": [
    {
     "data": {
      "text/plain": [
       "0.10348224639892578"
      ]
     },
     "execution_count": 29,
     "metadata": {},
     "output_type": "execute_result"
    }
   ],
   "source": [
    "#!c1.8\n",
    "SIZE = get_size_in_megabytes(model)\n",
    "SIZE"
   ]
  },
  {
   "cell_type": "markdown",
   "metadata": {
    "cellId": "fhr4ufguo3ozxnsnb5agk",
    "execution_id": "b47dde84-a3da-44e9-addf-9ca83fdba6c4",
    "id": "Mu6BCbZO6crx"
   },
   "source": [
    "# Distilation"
   ]
  },
  {
   "cell_type": "markdown",
   "metadata": {
    "cellId": "r9g0qivpt2f024llwtysxqe",
    "id": "OK3dtrjz-9YK"
   },
   "source": [
    "В первую очередь я решил сделать обычную дистяляцию на логитах, просто взяв cross entropy на выходах моделей, но поскольку начал писать я это поздно вечером, то наломал кучу багов (которые позже найду), но это всё равно работало!!! Также я немного посмотрел на распределения вероятностей в батчах с разными температурами, и пришёл к выводу, что 7 это +- оптимальное, вероятности не слишком нормальные (мы не хотим, чтобы модель была слишком неуверена), но и крайних значений практически нет. Ещё я сразу уменьшил число каналов свёртки до 3, это не должно сильно повлиять на качество"
   ]
  },
  {
   "cell_type": "code",
   "execution_count": 31,
   "metadata": {
    "cellId": "iv8v847hd7tvagnw3nzm",
    "id": "SKHv9K2J6cry"
   },
   "outputs": [],
   "source": [
    "#!c1.8\n",
    "def train_dist_epoch(teacher, student, opt, loader, log_melspec, device, temp):\n",
    "    student.train()\n",
    "    teacher.eval()\n",
    "    \n",
    "    for i, (batch, labels) in tqdm(enumerate(loader), total=len(loader)):\n",
    "        batch, labels = batch.to(device), labels.to(device)\n",
    "        batch = log_melspec(batch)\n",
    "\n",
    "        opt.zero_grad()\n",
    "\n",
    "        with torch.no_grad():\n",
    "            logits_teach = teacher(batch)\n",
    "            probs_teach = F.softmax(logits_teach, dim=-1) / temp\n",
    "        logits_stud = student(batch)\n",
    "        probs_stud = F.softmax(logits_stud, dim=-1)\n",
    "        \n",
    "        loss = F.cross_entropy(logits_stud, logits_teach)\n",
    "\n",
    "        loss.backward()\n",
    "        torch.nn.utils.clip_grad_norm_(student.parameters(), 5)\n",
    "\n",
    "        opt.step()\n",
    "\n",
    "        # logging\n",
    "        argmax_probs = torch.argmax(probs_stud, dim=-1)\n",
    "        FA, FR = count_FA_FR(argmax_probs, labels)\n",
    "        acc = torch.sum(argmax_probs == labels) / torch.numel(argmax_probs)\n",
    "\n",
    "    return acc"
   ]
  },
  {
   "cell_type": "code",
   "execution_count": 32,
   "metadata": {
    "cellId": "o93dxr4ttg3gq5v3nu71d",
    "colab": {
     "base_uri": "https://localhost:8080/"
    },
    "id": "138_ahNl6cry",
    "outputId": "3c32a5bf-abcb-4a26-b354-dd8e3bfd9105"
   },
   "outputs": [
    {
     "name": "stdout",
     "output_type": "stream",
     "text": [
      "size rate 1.914899687917967\n",
      "[INFO] Register count_convNd() for <class 'torch.nn.modules.conv.Conv2d'>.\n",
      "[INFO] Register zero_ops() for <class 'torch.nn.modules.container.Sequential'>.\n",
      "[INFO] Register count_gru() for <class 'torch.nn.modules.rnn.GRU'>.\n",
      "[INFO] Register count_linear() for <class 'torch.nn.modules.linear.Linear'>.\n",
      "macs rate 2.1218981109127646\n"
     ]
    }
   ],
   "source": [
    "#!c1.8\n",
    "config_stud = TaskConfig(cnn_out_channels=3, hidden_size = 28, gru_num_layers = 2)\n",
    "student = CRNN(config_stud).to(config_stud.device)\n",
    "print('size rate', SIZE / get_size_in_megabytes(student))\n",
    "macs, _ = profile(student, (batch.to(config_stud.device), ))\n",
    "print('macs rate', MACS_CNT / macs )\n",
    "_ = student(batch.to(config_stud.device))"
   ]
  },
  {
   "cell_type": "code",
   "execution_count": 33,
   "metadata": {
    "cellId": "rkjhct79e39oi1vtss8vp",
    "colab": {
     "base_uri": "https://localhost:8080/"
    },
    "id": "53KSUeZ76cry",
    "outputId": "c5dc341d-9ef4-4e6a-ee0e-12358d6feca3"
   },
   "outputs": [
    {
     "data": {
      "text/plain": [
       "13130"
      ]
     },
     "metadata": {},
     "output_type": "display_data"
    }
   ],
   "source": [
    "#!c1.8\n",
    "opt = torch.optim.Adam(\n",
    "    student.parameters(),\n",
    "    lr=config.learning_rate,\n",
    "    weight_decay=config.weight_decay\n",
    ")\n",
    "sum([p.numel() for p in student.parameters()])"
   ]
  },
  {
   "cell_type": "code",
   "execution_count": 34,
   "metadata": {
    "cellId": "tx69ln3vx6kn38h3cfqq",
    "colab": {
     "base_uri": "https://localhost:8080/",
     "height": 729
    },
    "id": "7mXNijwm6cry",
    "outputId": "e6f31009-7a8f-41be-f02d-7296c78965bd"
   },
   "outputs": [
    {
     "name": "stdout",
     "output_type": "stream",
     "text": [
      "BEST SCORE: 5.341551839862054e-05\n",
      "BEST EPOCH: 6\n",
      "END OF EPOCH 7\n"
     ]
    },
    {
     "name": "stderr",
     "output_type": "stream",
     "text": [
      " 11%|█▏        | 46/405 [00:04<00:32, 11.04it/s]\n"
     ]
    },
    {
     "data": {
      "image/png": "[encoded data removed]",
      "text/plain": [
       "<Figure size 432x288 with 1 Axes>"
      ]
     },
     "metadata": {
      "needs_background": "light"
     },
     "output_type": "display_data"
    },
    {
     "ename": "KeyboardInterrupt",
     "evalue": "ignored",
     "output_type": "error",
     "traceback": [
      "\u001b[0;31m---------------------------------------------------------------------------\u001b[0m",
      "\u001b[0;31mKeyboardInterrupt\u001b[0m                         Traceback (most recent call last)",
      "\u001b[0;32m<ipython-input-34-0ed7902a08fa>\u001b[0m in \u001b[0;36m<module>\u001b[0;34m\u001b[0m\n\u001b[1;32m      7\u001b[0m \u001b[0;34m\u001b[0m\u001b[0m\n\u001b[1;32m      8\u001b[0m     train_dist_epoch(model, student, opt, train_loader,\n\u001b[0;32m----> 9\u001b[0;31m                 melspec_train, config_stud.device, 7)\n\u001b[0m\u001b[1;32m     10\u001b[0m \u001b[0;34m\u001b[0m\u001b[0m\n\u001b[1;32m     11\u001b[0m     au_fa_fr = validation(student, val_loader,\n",
      "\u001b[0;32m<ipython-input-31-6412d2bf1189>\u001b[0m in \u001b[0;36mtrain_dist_epoch\u001b[0;34m(teacher, student, opt, loader, log_melspec, device, temp)\u001b[0m\n\u001b[1;32m     21\u001b[0m         \u001b[0mtorch\u001b[0m\u001b[0;34m.\u001b[0m\u001b[0mnn\u001b[0m\u001b[0;34m.\u001b[0m\u001b[0mutils\u001b[0m\u001b[0;34m.\u001b[0m\u001b[0mclip_grad_norm_\u001b[0m\u001b[0;34m(\u001b[0m\u001b[0mstudent\u001b[0m\u001b[0;34m.\u001b[0m\u001b[0mparameters\u001b[0m\u001b[0;34m(\u001b[0m\u001b[0;34m)\u001b[0m\u001b[0;34m,\u001b[0m \u001b[0;36m5\u001b[0m\u001b[0;34m)\u001b[0m\u001b[0;34m\u001b[0m\u001b[0;34m\u001b[0m\u001b[0m\n\u001b[1;32m     22\u001b[0m \u001b[0;34m\u001b[0m\u001b[0m\n\u001b[0;32m---> 23\u001b[0;31m         \u001b[0mopt\u001b[0m\u001b[0;34m.\u001b[0m\u001b[0mstep\u001b[0m\u001b[0;34m(\u001b[0m\u001b[0;34m)\u001b[0m\u001b[0;34m\u001b[0m\u001b[0;34m\u001b[0m\u001b[0m\n\u001b[0m\u001b[1;32m     24\u001b[0m \u001b[0;34m\u001b[0m\u001b[0m\n\u001b[1;32m     25\u001b[0m         \u001b[0;31m# logging\u001b[0m\u001b[0;34m\u001b[0m\u001b[0;34m\u001b[0m\u001b[0;34m\u001b[0m\u001b[0m\n",
      "\u001b[0;32m/usr/local/lib/python3.7/dist-packages/torch/optim/optimizer.py\u001b[0m in \u001b[0;36mwrapper\u001b[0;34m(*args, **kwargs)\u001b[0m\n\u001b[1;32m    111\u001b[0m                 \u001b[0mprofile_name\u001b[0m \u001b[0;34m=\u001b[0m \u001b[0;34m\"Optimizer.step#{}.step\"\u001b[0m\u001b[0;34m.\u001b[0m\u001b[0mformat\u001b[0m\u001b[0;34m(\u001b[0m\u001b[0mobj\u001b[0m\u001b[0;34m.\u001b[0m\u001b[0m__class__\u001b[0m\u001b[0;34m.\u001b[0m\u001b[0m__name__\u001b[0m\u001b[0;34m)\u001b[0m\u001b[0;34m\u001b[0m\u001b[0;34m\u001b[0m\u001b[0m\n\u001b[1;32m    112\u001b[0m                 \u001b[0;32mwith\u001b[0m \u001b[0mtorch\u001b[0m\u001b[0;34m.\u001b[0m\u001b[0mautograd\u001b[0m\u001b[0;34m.\u001b[0m\u001b[0mprofiler\u001b[0m\u001b[0;34m.\u001b[0m\u001b[0mrecord_function\u001b[0m\u001b[0;34m(\u001b[0m\u001b[0mprofile_name\u001b[0m\u001b[0;34m)\u001b[0m\u001b[0;34m:\u001b[0m\u001b[0;34m\u001b[0m\u001b[0;34m\u001b[0m\u001b[0m\n\u001b[0;32m--> 113\u001b[0;31m                     \u001b[0;32mreturn\u001b[0m \u001b[0mfunc\u001b[0m\u001b[0;34m(\u001b[0m\u001b[0;34m*\u001b[0m\u001b[0margs\u001b[0m\u001b[0;34m,\u001b[0m \u001b[0;34m**\u001b[0m\u001b[0mkwargs\u001b[0m\u001b[0;34m)\u001b[0m\u001b[0;34m\u001b[0m\u001b[0;34m\u001b[0m\u001b[0m\n\u001b[0m\u001b[1;32m    114\u001b[0m             \u001b[0;32mreturn\u001b[0m \u001b[0mwrapper\u001b[0m\u001b[0;34m\u001b[0m\u001b[0;34m\u001b[0m\u001b[0m\n\u001b[1;32m    115\u001b[0m \u001b[0;34m\u001b[0m\u001b[0m\n",
      "\u001b[0;32m/usr/local/lib/python3.7/dist-packages/torch/autograd/grad_mode.py\u001b[0m in \u001b[0;36mdecorate_context\u001b[0;34m(*args, **kwargs)\u001b[0m\n\u001b[1;32m     25\u001b[0m         \u001b[0;32mdef\u001b[0m \u001b[0mdecorate_context\u001b[0m\u001b[0;34m(\u001b[0m\u001b[0;34m*\u001b[0m\u001b[0margs\u001b[0m\u001b[0;34m,\u001b[0m \u001b[0;34m**\u001b[0m\u001b[0mkwargs\u001b[0m\u001b[0;34m)\u001b[0m\u001b[0;34m:\u001b[0m\u001b[0;34m\u001b[0m\u001b[0;34m\u001b[0m\u001b[0m\n\u001b[1;32m     26\u001b[0m             \u001b[0;32mwith\u001b[0m \u001b[0mself\u001b[0m\u001b[0;34m.\u001b[0m\u001b[0mclone\u001b[0m\u001b[0;34m(\u001b[0m\u001b[0;34m)\u001b[0m\u001b[0;34m:\u001b[0m\u001b[0;34m\u001b[0m\u001b[0;34m\u001b[0m\u001b[0m\n\u001b[0;32m---> 27\u001b[0;31m                 \u001b[0;32mreturn\u001b[0m \u001b[0mfunc\u001b[0m\u001b[0;34m(\u001b[0m\u001b[0;34m*\u001b[0m\u001b[0margs\u001b[0m\u001b[0;34m,\u001b[0m \u001b[0;34m**\u001b[0m\u001b[0mkwargs\u001b[0m\u001b[0;34m)\u001b[0m\u001b[0;34m\u001b[0m\u001b[0;34m\u001b[0m\u001b[0m\n\u001b[0m\u001b[1;32m     28\u001b[0m         \u001b[0;32mreturn\u001b[0m \u001b[0mcast\u001b[0m\u001b[0;34m(\u001b[0m\u001b[0mF\u001b[0m\u001b[0;34m,\u001b[0m \u001b[0mdecorate_context\u001b[0m\u001b[0;34m)\u001b[0m\u001b[0;34m\u001b[0m\u001b[0;34m\u001b[0m\u001b[0m\n\u001b[1;32m     29\u001b[0m \u001b[0;34m\u001b[0m\u001b[0m\n",
      "\u001b[0;32m/usr/local/lib/python3.7/dist-packages/torch/optim/adam.py\u001b[0m in \u001b[0;36mstep\u001b[0;34m(self, closure)\u001b[0m\n\u001b[1;32m    169\u001b[0m                  \u001b[0mmaximize\u001b[0m\u001b[0;34m=\u001b[0m\u001b[0mgroup\u001b[0m\u001b[0;34m[\u001b[0m\u001b[0;34m'maximize'\u001b[0m\u001b[0;34m]\u001b[0m\u001b[0;34m,\u001b[0m\u001b[0;34m\u001b[0m\u001b[0;34m\u001b[0m\u001b[0m\n\u001b[1;32m    170\u001b[0m                  \u001b[0mforeach\u001b[0m\u001b[0;34m=\u001b[0m\u001b[0mgroup\u001b[0m\u001b[0;34m[\u001b[0m\u001b[0;34m'foreach'\u001b[0m\u001b[0;34m]\u001b[0m\u001b[0;34m,\u001b[0m\u001b[0;34m\u001b[0m\u001b[0;34m\u001b[0m\u001b[0m\n\u001b[0;32m--> 171\u001b[0;31m                  capturable=group['capturable'])\n\u001b[0m\u001b[1;32m    172\u001b[0m \u001b[0;34m\u001b[0m\u001b[0m\n\u001b[1;32m    173\u001b[0m         \u001b[0;32mreturn\u001b[0m \u001b[0mloss\u001b[0m\u001b[0;34m\u001b[0m\u001b[0;34m\u001b[0m\u001b[0m\n",
      "\u001b[0;32m/usr/local/lib/python3.7/dist-packages/torch/optim/adam.py\u001b[0m in \u001b[0;36madam\u001b[0;34m(params, grads, exp_avgs, exp_avg_sqs, max_exp_avg_sqs, state_steps, foreach, capturable, amsgrad, beta1, beta2, lr, weight_decay, eps, maximize)\u001b[0m\n\u001b[1;32m    224\u001b[0m          \u001b[0meps\u001b[0m\u001b[0;34m=\u001b[0m\u001b[0meps\u001b[0m\u001b[0;34m,\u001b[0m\u001b[0;34m\u001b[0m\u001b[0;34m\u001b[0m\u001b[0m\n\u001b[1;32m    225\u001b[0m          \u001b[0mmaximize\u001b[0m\u001b[0;34m=\u001b[0m\u001b[0mmaximize\u001b[0m\u001b[0;34m,\u001b[0m\u001b[0;34m\u001b[0m\u001b[0;34m\u001b[0m\u001b[0m\n\u001b[0;32m--> 226\u001b[0;31m          capturable=capturable)\n\u001b[0m\u001b[1;32m    227\u001b[0m \u001b[0;34m\u001b[0m\u001b[0m\n\u001b[1;32m    228\u001b[0m \u001b[0;34m\u001b[0m\u001b[0m\n",
      "\u001b[0;32m/usr/local/lib/python3.7/dist-packages/torch/optim/adam.py\u001b[0m in \u001b[0;36m_single_tensor_adam\u001b[0;34m(params, grads, exp_avgs, exp_avg_sqs, max_exp_avg_sqs, state_steps, amsgrad, beta1, beta2, lr, weight_decay, eps, maximize, capturable)\u001b[0m\n\u001b[1;32m    261\u001b[0m         \u001b[0;31m# Decay the first and second moment running average coefficient\u001b[0m\u001b[0;34m\u001b[0m\u001b[0;34m\u001b[0m\u001b[0;34m\u001b[0m\u001b[0m\n\u001b[1;32m    262\u001b[0m         \u001b[0mexp_avg\u001b[0m\u001b[0;34m.\u001b[0m\u001b[0mmul_\u001b[0m\u001b[0;34m(\u001b[0m\u001b[0mbeta1\u001b[0m\u001b[0;34m)\u001b[0m\u001b[0;34m.\u001b[0m\u001b[0madd_\u001b[0m\u001b[0;34m(\u001b[0m\u001b[0mgrad\u001b[0m\u001b[0;34m,\u001b[0m \u001b[0malpha\u001b[0m\u001b[0;34m=\u001b[0m\u001b[0;36m1\u001b[0m \u001b[0;34m-\u001b[0m \u001b[0mbeta1\u001b[0m\u001b[0;34m)\u001b[0m\u001b[0;34m\u001b[0m\u001b[0;34m\u001b[0m\u001b[0m\n\u001b[0;32m--> 263\u001b[0;31m         \u001b[0mexp_avg_sq\u001b[0m\u001b[0;34m.\u001b[0m\u001b[0mmul_\u001b[0m\u001b[0;34m(\u001b[0m\u001b[0mbeta2\u001b[0m\u001b[0;34m)\u001b[0m\u001b[0;34m.\u001b[0m\u001b[0maddcmul_\u001b[0m\u001b[0;34m(\u001b[0m\u001b[0mgrad\u001b[0m\u001b[0;34m,\u001b[0m \u001b[0mgrad\u001b[0m\u001b[0;34m.\u001b[0m\u001b[0mconj\u001b[0m\u001b[0;34m(\u001b[0m\u001b[0;34m)\u001b[0m\u001b[0;34m,\u001b[0m \u001b[0mvalue\u001b[0m\u001b[0;34m=\u001b[0m\u001b[0;36m1\u001b[0m \u001b[0;34m-\u001b[0m \u001b[0mbeta2\u001b[0m\u001b[0;34m)\u001b[0m\u001b[0;34m\u001b[0m\u001b[0;34m\u001b[0m\u001b[0m\n\u001b[0m\u001b[1;32m    264\u001b[0m \u001b[0;34m\u001b[0m\u001b[0m\n\u001b[1;32m    265\u001b[0m         \u001b[0;32mif\u001b[0m \u001b[0mcapturable\u001b[0m\u001b[0;34m:\u001b[0m\u001b[0;34m\u001b[0m\u001b[0;34m\u001b[0m\u001b[0m\n",
      "\u001b[0;31mKeyboardInterrupt\u001b[0m: "
     ]
    }
   ],
   "source": [
    "#!c1.8\n",
    "history = defaultdict(list)\n",
    "best_score= 100\n",
    "best_epoch = 0\n",
    "\n",
    "for n in range(TaskConfig.num_epochs):\n",
    "\n",
    "    train_dist_epoch(model, student, opt, train_loader,\n",
    "                melspec_train, config_stud.device, 7)\n",
    "\n",
    "    au_fa_fr = validation(student, val_loader,\n",
    "                          melspec_val, config_stud.device)\n",
    "    if au_fa_fr < best_score:\n",
    "        best_score = au_fa_fr\n",
    "        best_epoch = n\n",
    "        state = student.state_dict()\n",
    "        torch.save(state, 'model1.pt')\n",
    "\n",
    "    history['val_metric'].append(au_fa_fr)\n",
    "\n",
    "    clear_output()\n",
    "    plt.plot(history['val_metric'])\n",
    "    plt.ylabel('Metric')\n",
    "    plt.xlabel('Epoch')\n",
    "    plt.grid()\n",
    "    plt.show()\n",
    "\n",
    "    print(f'BEST SCORE: {best_score}')\n",
    "    print(f'BEST EPOCH: {best_epoch}')\n",
    "    print('END OF EPOCH', n)"
   ]
  },
  {
   "cell_type": "markdown",
   "metadata": {
    "cellId": "aychu3gs0l91i2ig5ko27u",
    "execution_id": "0b42eab4-3239-424f-a494-cc1cdfab47d2",
    "id": "XC5h4rwq6crz"
   },
   "source": [
    "## Model 2"
   ]
  },
  {
   "cell_type": "markdown",
   "metadata": {
    "cellId": "w2xa7r458bj0rjnu9wqfg5",
    "id": "ORTRSIuV_d8A"
   },
   "source": [
    "Простенькая модельку обучилась очень быстро, поэтому я решил уменьшить hidden size в 2 раза, это должно дать и скорости, и уменьшить размер."
   ]
  },
  {
   "cell_type": "code",
   "execution_count": 35,
   "metadata": {
    "cellId": "kp1ftlbvbd7kawbiyimvd",
    "colab": {
     "base_uri": "https://localhost:8080/"
    },
    "id": "Pm--hXVR6crz",
    "outputId": "3c04fc86-8599-444a-bb4f-54b1e02bc28e"
   },
   "outputs": [
    {
     "name": "stdout",
     "output_type": "stream",
     "text": [
      "size rate 4.750608326328363\n",
      "[INFO] Register count_convNd() for <class 'torch.nn.modules.conv.Conv2d'>.\n",
      "[INFO] Register zero_ops() for <class 'torch.nn.modules.container.Sequential'>.\n",
      "[INFO] Register count_gru() for <class 'torch.nn.modules.rnn.GRU'>.\n",
      "[INFO] Register count_linear() for <class 'torch.nn.modules.linear.Linear'>.\n",
      "macs rate 3.930023434519592\n"
     ]
    }
   ],
   "source": [
    "config_stud = TaskConfig(cnn_out_channels=3, hidden_size = 14)\n",
    "student = CRNN(config_stud).cuda()\n",
    "print('size rate', SIZE / get_size_in_megabytes(student))\n",
    "macs, _ = profile(student, (batch, ))\n",
    "print('macs rate', MACS_CNT / macs )"
   ]
  },
  {
   "cell_type": "code",
   "execution_count": 36,
   "metadata": {
    "cellId": "gaw4pb13pg97imth9v1u9",
    "colab": {
     "base_uri": "https://localhost:8080/"
    },
    "id": "J1ilf5OH6crz",
    "outputId": "18b4f9bc-d296-4e56-9b80-222bd92359da"
   },
   "outputs": [
    {
     "data": {
      "text/plain": [
       "4758"
      ]
     },
     "metadata": {},
     "output_type": "display_data"
    }
   ],
   "source": [
    "opt = torch.optim.Adam(\n",
    "    student.parameters(),\n",
    "    lr=config.learning_rate,\n",
    "    weight_decay=config.weight_decay\n",
    ")\n",
    "sum([p.numel() for p in student.parameters()])"
   ]
  },
  {
   "cell_type": "code",
   "execution_count": 38,
   "metadata": {
    "cellId": "99w3s8whiyulrx0ozanm",
    "colab": {
     "base_uri": "https://localhost:8080/",
     "height": 331
    },
    "id": "xTeXezNpGkvq",
    "outputId": "471fd273-811e-4065-9b2e-45bceeaf20f8"
   },
   "outputs": [],
   "source": [
    "history = defaultdict(list)\n",
    "best_score = 100\n",
    "best_epoch = 0 \n",
    "\n",
    "for n in range(40):\n",
    "\n",
    "    train_dist_epoch(model, student, opt, train_loader,\n",
    "                melspec_train, config_stud.device, 7)\n",
    "\n",
    "    au_fa_fr = validation(student, val_loader,\n",
    "                          melspec_val, config_stud.device)\n",
    "    history['val_metric'].append(au_fa_fr)\n",
    "    if au_fa_fr < best_score:\n",
    "        best_score = au_fa_fr\n",
    "        best_epoch = n\n",
    "        state = student.state_dict()\n",
    "        torch.save(state, 'model2.pt')\n",
    "\n",
    "    clear_output()\n",
    "    plt.plot(history['val_metric'])\n",
    "    plt.ylabel('Metric')\n",
    "    plt.xlabel('Epoch')\n",
    "    plt.grid()\n",
    "    plt.show()\n",
    "\n",
    "    print(f'BEST SCORE: {best_score}')\n",
    "    print(f'BEST EPOCH: {best_epoch}')\n",
    "    print('END OF EPOCH', n)\n",
    "    if best_score < 5e-5:\n",
    "        break"
   ]
  },
  {
   "cell_type": "markdown",
   "metadata": {
    "cellId": "6sy1di9tooe29ibqm4t7w2",
    "id": "LXtOmKo-HZP2"
   },
   "source": [
    "Я перезапускал ячейку, т.к. хотел ещё дообучить, и не зря, так что это на самом деле 23 эпоха, а не 3"
   ]
  },
  {
   "cell_type": "markdown",
   "metadata": {
    "cellId": "2r6xbe3obyvk2b661t4xe",
    "execution_id": "61d217dc-a213-4de0-ac5e-134db36b5010",
    "id": "jsfSdyg36cr0"
   },
   "source": [
    "# Model 3"
   ]
  },
  {
   "cell_type": "markdown",
   "metadata": {
    "cellId": "txv6je2r70lsr5hbg9qgvr",
    "execution_id": "de43d505-1b63-45fd-8d27-380c77467809",
    "id": "suVmK_mPC2cl"
   },
   "source": [
    "Я достаточно сильно уменьшил hidden size, но ничего не сделлал со свёрткой, а эта операция довольно тяжёлая, поэтому далее я решил ещё чуть чуть уменьшить hidden size и увеличить страйды"
   ]
  },
  {
   "cell_type": "code",
   "execution_count": 39,
   "metadata": {
    "cellId": "gerfifkg9d4cacmwtdpqb",
    "colab": {
     "base_uri": "https://localhost:8080/"
    },
    "id": "0ZzAnYaH6cr0",
    "outputId": "ad845860-0447-4db7-b42c-064011e366e1"
   },
   "outputs": [
    {
     "name": "stdout",
     "output_type": "stream",
     "text": [
      "size rate 7.761329960245754\n",
      "[INFO] Register count_convNd() for <class 'torch.nn.modules.conv.Conv2d'>.\n",
      "[INFO] Register zero_ops() for <class 'torch.nn.modules.container.Sequential'>.\n",
      "[INFO] Register count_gru() for <class 'torch.nn.modules.rnn.GRU'>.\n",
      "[INFO] Register count_linear() for <class 'torch.nn.modules.linear.Linear'>.\n",
      "macs rate 8.07675938025014\n"
     ]
    }
   ],
   "source": [
    "config_stud = TaskConfig(cnn_out_channels=3, hidden_size = 10, gru_num_layers = 2, stride=(3, 10))\n",
    "student = CRNN(config_stud).cuda()\n",
    "print('size rate', SIZE / get_size_in_megabytes(student))\n",
    "macs, _ = profile(student, (batch, ))\n",
    "print('macs rate', MACS_CNT / macs )\n",
    "_ = student(batch)"
   ]
  },
  {
   "cell_type": "markdown",
   "metadata": {
    "cellId": "ivri5k5pvcqxac0xr6em",
    "id": "pI9E9cccHv-s"
   },
   "source": [
    "Здесь я решил посмотреть распределение максов по разным слоям, чтобы понять, что лучше оптимизировать"
   ]
  },
  {
   "cell_type": "code",
   "execution_count": 40,
   "metadata": {
    "cellId": "2swsbbvsvhun8t2b0e26q",
    "colab": {
     "base_uri": "https://localhost:8080/"
    },
    "id": "rRYqYwkv6cr0",
    "outputId": "34dcf7eb-1bb0-43b9-a805-46f3f8f3b5a6"
   },
   "outputs": [
    {
     "name": "stdout",
     "output_type": "stream",
     "text": [
      "[INFO] Register count_convNd() for <class 'torch.nn.modules.conv.Conv2d'>.\n",
      "[INFO] Register zero_ops() for <class 'torch.nn.modules.container.Sequential'>.\n",
      "[INFO] Register count_gru() for <class 'torch.nn.modules.rnn.GRU'>.\n",
      "[INFO] Register count_linear() for <class 'torch.nn.modules.linear.Linear'>.\n",
      "[INFO] Register zero_ops() for <class 'torch.nn.modules.container.Sequential'>.\n",
      "[INFO] Register count_linear() for <class 'torch.nn.modules.linear.Linear'>.\n"
     ]
    }
   ],
   "source": [
    "#!g1.1\n",
    "batch_inp = batch.unsqueeze(dim=1)\n",
    "macs_conv, _ = profile(student.conv, (batch_inp, ))\n",
    "batch_conv = student.conv(batch_inp).transpose(-1, -2)\n",
    "macs_gru, _ = profile(student.gru, (batch_conv, ))\n",
    "batch_gru, _ = student.gru(batch_conv)\n",
    "macs_attent, _ = profile(student.attention, (batch_gru, ))\n",
    "batch_attent = student.attention(batch_gru)\n",
    "macs_class, _ = profile(student.classifier, (batch_attent, ))"
   ]
  },
  {
   "cell_type": "code",
   "execution_count": 41,
   "metadata": {
    "cellId": "seaf2bmlwpxgn2skxhpo",
    "colab": {
     "base_uri": "https://localhost:8080/"
    },
    "id": "DnlXBlVK6cr0",
    "outputId": "bab68e91-b0f6-4174-f506-1dab51bde446"
   },
   "outputs": [
    {
     "data": {
      "text/plain": [
       "array([6.04816128e-01, 3.76330035e-01, 1.84804928e-02, 3.73343289e-04])"
      ]
     },
     "metadata": {},
     "output_type": "display_data"
    }
   ],
   "source": [
    "#!g1.1\n",
    "np.array([macs_conv, macs_gru, macs_attent, macs_class]) / macs"
   ]
  },
  {
   "cell_type": "code",
   "execution_count": null,
   "metadata": {
    "cellId": "srjjvegs0dch4ixkojyet",
    "id": "9rpOMy8-6cr0"
   },
   "outputs": [],
   "source": [
    "#!g1.1\n",
    "batch_inp = batch.unsqueeze(dim=1)\n",
    "conv_output = student.conv(batch_inp).transpose(-1, -2)\n",
    "gru_output, _ = student.gru(conv_output)\n",
    "contex_vector = student.attention(gru_output)\n",
    "output = student.classifier(contex_vector)"
   ]
  },
  {
   "cell_type": "markdown",
   "metadata": {
    "cellId": "9v2ipqv79ut6bd1wqhl1gr",
    "id": "CcSYe1BzH9aP"
   },
   "source": [
    "Как видим, больше всего приходится на свёртку и на гру"
   ]
  },
  {
   "cell_type": "code",
   "execution_count": 42,
   "metadata": {
    "cellId": "n2lix36i5rgstlcavoxbch",
    "colab": {
     "base_uri": "https://localhost:8080/"
    },
    "id": "-KqsAYtl6cr0",
    "outputId": "417e0f24-fdab-46c6-c1f2-f4d530f53142"
   },
   "outputs": [
    {
     "data": {
      "text/plain": [
       "2546"
      ]
     },
     "metadata": {},
     "output_type": "display_data"
    }
   ],
   "source": [
    "#!g1.1\n",
    "opt = torch.optim.Adam(\n",
    "    student.parameters(),\n",
    "    lr=config.learning_rate,\n",
    "    weight_decay=config.weight_decay\n",
    ")\n",
    "sum([p.numel() for p in student.parameters()])"
   ]
  },
  {
   "cell_type": "code",
   "execution_count": null,
   "metadata": {
    "cellId": "ra08j8h51zqysivvyuu2f9",
    "id": "rgEy-yWn6cr0",
    "outputId": "a0ed7dd9-7505-4065-ce3d-a403e51b8829"
   },
   "outputs": [
    {
     "name": "stdout",
     "output_type": "stream",
     "text": [
      "BEST SCORE: 3.7147983692482724e-05\n",
      "BEST EPOCH: 18\n",
      "END OF EPOCH 19\n"
     ]
    },
    {
     "data": {
      "image/png": "[encoded data removed]",
      "text/plain": [
       "<Figure size 432x288 with 1 Axes>"
      ]
     },
     "metadata": {
      "needs_background": "light"
     },
     "output_type": "display_data"
    }
   ],
   "source": [
    "#!g1.1\n",
    "history = defaultdict(list)\n",
    "best_score = 100\n",
    "best_epoch = 0 \n",
    "for n in range(40):\n",
    "\n",
    "    train_dist_epoch(model, student, opt, train_loader,\n",
    "                melspec_train, config_stud.device, 7)\n",
    "\n",
    "    au_fa_fr = validation(student, val_loader,\n",
    "                          melspec_val, config_stud.device)\n",
    "    history['val_metric'].append(au_fa_fr)\n",
    "    if au_fa_fr < best_score:\n",
    "        best_score = au_fa_fr\n",
    "        best_epoch = n\n",
    "        state = student.state_dict()\n",
    "        torch.save(state, 'model3.pt')\n",
    "\n",
    "    clear_output()\n",
    "    plt.plot(history['val_metric'])\n",
    "    plt.ylabel('Metric')\n",
    "    plt.xlabel('Epoch')\n",
    "    plt.grid()\n",
    "    plt.show()\n",
    "\n",
    "    print(f'BEST SCORE: {best_score}')\n",
    "    print(f'BEST EPOCH: {best_epoch}')\n",
    "    print('END OF EPOCH', n)"
   ]
  },
  {
   "cell_type": "code",
   "execution_count": 43,
   "metadata": {
    "cellId": "ok7qmvqah3nk0hgyoe24o9",
    "colab": {
     "base_uri": "https://localhost:8080/",
     "height": 711
    },
    "id": "DY25MDOdIH-O",
    "outputId": "9d189f7c-b8b5-4dbc-db30-5aaac489669d"
   },
   "outputs": [],
   "source": [
    "history = defaultdict(list)\n",
    "best_score = 100\n",
    "best_epoch = 0 \n",
    "for n in range(40):\n",
    "\n",
    "    train_dist_epoch(model, student, opt, train_loader,\n",
    "                melspec_train, config_stud.device, 7)\n",
    "\n",
    "    au_fa_fr = validation(student, val_loader,\n",
    "                          melspec_val, config_stud.device)\n",
    "    history['val_metric'].append(au_fa_fr)\n",
    "    if au_fa_fr < best_score:\n",
    "        best_score = au_fa_fr\n",
    "        best_epoch = n\n",
    "        state = student.state_dict()\n",
    "        torch.save(state, 'model3.pt')\n",
    "\n",
    "    clear_output()\n",
    "    plt.plot(history['val_metric'])\n",
    "    plt.ylabel('Metric')\n",
    "    plt.xlabel('Epoch')\n",
    "    plt.grid()\n",
    "    plt.show()\n",
    "\n",
    "    print(f'BEST SCORE: {best_score}')\n",
    "    print(f'BEST EPOCH: {best_epoch}')\n",
    "    print('END OF EPOCH', n)"
   ]
  },
  {
   "cell_type": "markdown",
   "metadata": {
    "cellId": "2sta37nolqq8rioiud6bt",
    "execution_id": "1870eccf-26a0-4379-8050-64cecf536634",
    "id": "wdSu7alY6cr1"
   },
   "source": [
    "# Model 4\n"
   ]
  },
  {
   "cell_type": "markdown",
   "metadata": {
    "cellId": "kcpajsn1lria0oca3u7odv",
    "id": "-pu2metmFAlu"
   },
   "source": [
    "Примерно на этом этапе меня достигло осознания того, что именно я написал в фукнции обучения, и шок от того, почему это вообще работало... Я пробовал несколько подходов к обучению: обучать с помощью MSE на логитах классификаторов, обучать с помощью KL дивергенции на вероятностях, добавлять к этому обычную ошибку модели на выборке (кросс энтропия с истинным ответом), но всё это показало худший результат даже с той багнутой функцией, которую я использовал до этого, причём тестировал я это не предыдущих моделях, и не мог выбить 5e-5... Поэтому было принято решения использовать обычную кросс энтропию (в некст секции). Я также ставил эксперименты с расписанием, но это ничего не дало, т.к. новая правильная функция потерь могла сходится ООООЧЕНЬ долго (200 и более эпох), а могла и быстро, поэтому подобрать нужно расписание становилось практически невозможно. Примерно тут же я обнаружил проблему с сидом и воспроизводимостью, и стал его фиксировать (ну чтоб точно всё было)"
   ]
  },
  {
   "cell_type": "code",
   "execution_count": 51,
   "metadata": {
    "cellId": "wgspgduuf37nzn6kiwqok",
    "id": "4tzMcTvo6cr2"
   },
   "outputs": [],
   "source": [
    "#!c1.8\n",
    "def train_dist_epoch(teacher, student, opt, loader, log_melspec, device, temp, shedulder=None):\n",
    "    student.train()\n",
    "    teacher.eval()\n",
    "    \n",
    "    for i, (batch, labels) in tqdm(enumerate(loader), total=len(loader)):\n",
    "        batch, labels = batch.to(device), labels.to(device)\n",
    "        batch = log_melspec(batch)\n",
    "\n",
    "        opt.zero_grad()\n",
    "\n",
    "        with torch.no_grad():\n",
    "            logits_teach = teacher(batch) / temp\n",
    "            probs_teach = F.softmax(logits_teach, dim=-1) \n",
    "        logits_stud = student(batch)\n",
    "        probs_stud = F.softmax(logits_stud, dim=-1)\n",
    "        \n",
    "        loss = F.cross_entropy(logits_stud, probs_teach)\n",
    "\n",
    "        loss.backward()\n",
    "        torch.nn.utils.clip_grad_norm_(student.parameters(), 5)\n",
    "\n",
    "        opt.step()\n",
    "        if shedulder:\n",
    "            shedulder.step()\n",
    "\n",
    "        # logging\n",
    "        argmax_probs = torch.argmax(probs_stud, dim=-1)\n",
    "        FA, FR = count_FA_FR(argmax_probs, labels)\n",
    "        acc = torch.sum(argmax_probs == labels) / torch.numel(argmax_probs)\n",
    "\n",
    "    return acc"
   ]
  },
  {
   "cell_type": "code",
   "execution_count": 58,
   "metadata": {
    "cellId": "w9f2bgalc2gbh13d8a7gp",
    "id": "lwH23Sj5WQp2"
   },
   "outputs": [],
   "source": [
    "#!c1.8\n",
    "def train_dist_epoch_kl(teacher, student, opt, loader, log_melspec, device, temp, shedulder=None):\n",
    "    student.train()\n",
    "    teacher.eval()\n",
    "    \n",
    "    for i, (batch, labels) in tqdm(enumerate(loader), total=len(loader)):\n",
    "        batch, labels = batch.to(device), labels.to(device)\n",
    "        batch = log_melspec(batch)\n",
    "\n",
    "        opt.zero_grad()\n",
    "\n",
    "        with torch.no_grad():\n",
    "            logits_teach = teacher(batch) / temp\n",
    "            probs_teach = F.softmax(logits_teach, dim=-1)\n",
    "        logits_stud = student(batch) / temp\n",
    "        log_probs_stud = F.log_softmax(logits_stud, dim=-1)\n",
    "        \n",
    "        loss1 = F.kl_div(log_probs_stud, probs_teach, log_target=False)\n",
    "        loss2 = F.cross_entropy(logits_stud, labels)\n",
    "        \n",
    "        loss = loss1 + loss2\n",
    "\n",
    "        loss.backward()\n",
    "        torch.nn.utils.clip_grad_norm_(student.parameters(), 5)\n",
    "\n",
    "        opt.step()\n",
    "        if shedulder:\n",
    "            shedulder.step()\n",
    "\n",
    "        # logging\n",
    "        argmax_probs = torch.argmax(log_probs_stud, dim=-1)\n",
    "        FA, FR = count_FA_FR(argmax_probs, labels)\n",
    "        acc = torch.sum(argmax_probs == labels) / torch.numel(argmax_probs)\n",
    "\n",
    "    return acc"
   ]
  },
  {
   "cell_type": "code",
   "execution_count": 53,
   "metadata": {
    "cellId": "rn4yhkq5u5pwwp5ktuh4dj",
    "id": "Ov_p85XTWToo"
   },
   "outputs": [],
   "source": [
    "#!c1.8\n",
    "def train_dist_epoch_mse(teacher, student, opt, loader, log_melspec, device, temp, shedulder=None):\n",
    "    student.train()\n",
    "    teacher.eval()\n",
    "    \n",
    "    for i, (batch, labels) in tqdm(enumerate(loader), total=len(loader)):\n",
    "        batch, labels = batch.to(device), labels.to(device)\n",
    "        batch = log_melspec(batch)\n",
    "\n",
    "        opt.zero_grad()\n",
    "\n",
    "        with torch.no_grad():\n",
    "            logits_teach = teacher(batch) #/ temp\n",
    "            probs_teach = F.softmax(logits_teach, dim=-1)\n",
    "        logits_stud = student(batch) #/ temp\n",
    "        log_probs_stud = F.log_softmax(logits_stud, dim=-1)\n",
    "        \n",
    "        #loss1 = F.kl_div(log_probs_stud, probs_teach, log_target=False)\n",
    "        #loss2 = F.cross_entropy(logits_stud, labels)\n",
    "        \n",
    "        #loss = loss1 + loss2\n",
    "        loss = F.mse_loss(logits_teach, logits_stud)\n",
    "\n",
    "        loss.backward()\n",
    "        torch.nn.utils.clip_grad_norm_(student.parameters(), 5)\n",
    "\n",
    "        opt.step()\n",
    "        if shedulder:\n",
    "            shedulder.step()\n",
    "\n",
    "        # logging\n",
    "        argmax_probs = torch.argmax(log_probs_stud, dim=-1)\n",
    "        FA, FR = count_FA_FR(argmax_probs, labels)\n",
    "        acc = torch.sum(argmax_probs == labels) / torch.numel(argmax_probs)\n",
    "\n",
    "    return acc\n"
   ]
  },
  {
   "cell_type": "code",
   "execution_count": 59,
   "metadata": {
    "cellId": "gphyy3u6ml4ffdp5vh4gkg",
    "colab": {
     "base_uri": "https://localhost:8080/"
    },
    "id": "Ke_PShYW6cr2",
    "outputId": "892e98e4-6f5d-4030-e703-ba81725c663a"
   },
   "outputs": [
    {
     "name": "stdout",
     "output_type": "stream",
     "text": [
      "size rate 7.761329960245754\n",
      "[INFO] Register count_convNd() for <class 'torch.nn.modules.conv.Conv2d'>.\n",
      "[INFO] Register zero_ops() for <class 'torch.nn.modules.container.Sequential'>.\n",
      "[INFO] Register count_gru() for <class 'torch.nn.modules.rnn.GRU'>.\n",
      "[INFO] Register count_linear() for <class 'torch.nn.modules.linear.Linear'>.\n",
      "macs rate 8.07675938025014\n"
     ]
    }
   ],
   "source": [
    "#!c1.8\n",
    "config_stud = TaskConfig(cnn_out_channels=3, hidden_size = 10, gru_num_layers = 2, stride=(3, 10))\n",
    "setup_seed(1001)\n",
    "student = CRNN(config_stud).to(config_stud.device)\n",
    "print('size rate', SIZE / get_size_in_megabytes(student))\n",
    "macs, _ = profile(student, (batch, ))\n",
    "print('macs rate', MACS_CNT / macs )\n",
    "_ = student(batch)"
   ]
  },
  {
   "cell_type": "code",
   "execution_count": 60,
   "metadata": {
    "cellId": "x6jltcm8vd1bk2oqrm1pz",
    "colab": {
     "base_uri": "https://localhost:8080/"
    },
    "id": "jeQNlGGI6cr2",
    "outputId": "33a88b91-ae68-4d2b-b8a9-42c1162a563c"
   },
   "outputs": [
    {
     "data": {
      "text/plain": [
       "2546"
      ]
     },
     "metadata": {},
     "output_type": "display_data"
    }
   ],
   "source": [
    "#!c1.8\n",
    "opt = torch.optim.Adam(\n",
    "    student.parameters(),\n",
    "    lr=config.learning_rate,\n",
    "    weight_decay=config.weight_decay\n",
    ")\n",
    "sum([p.numel() for p in student.parameters()])"
   ]
  },
  {
   "cell_type": "code",
   "execution_count": 54,
   "metadata": {
    "cellId": "tslahoojmbi7nylv321f13",
    "id": "j9wJ-lXu6cr2"
   },
   "outputs": [],
   "source": [
    "#!c1.8\n",
    "shedulder = torch.optim.lr_scheduler.OneCycleLR(opt, max_lr=5e-3, epochs=30, steps_per_epoch=len(train_loader), pct_start=0.2)"
   ]
  },
  {
   "cell_type": "code",
   "execution_count": 61,
   "metadata": {
    "cellId": "70ddx2zlw4jnd97ek0q9u",
    "colab": {
     "base_uri": "https://localhost:8080/",
     "height": 331
    },
    "id": "Yy-KXg616cr2",
    "outputId": "fed8a99d-8599-437a-d893-7d67e2420566"
   },
   "outputs": [
    {
     "name": "stdout",
     "output_type": "stream",
     "text": [
      "BEST SCORE: 0.00018624417623301843\n",
      "BEST EPOCH: 29\n",
      "END OF EPOCH 29\n"
     ]
    },
    {
     "data": {
      "image/png": "[encoded data removed]",
      "text/plain": [
       "<Figure size 432x288 with 1 Axes>"
      ]
     },
     "metadata": {
      "needs_background": "light"
     },
     "output_type": "display_data"
    }
   ],
   "source": [
    "#!c1.8\n",
    "history = defaultdict(list)\n",
    "best_score = 100\n",
    "best_epoch = 0 \n",
    "setup_seed(1001)\n",
    "\n",
    "for n in range(30):\n",
    "\n",
    "    train_dist_epoch_kl(model, student, opt, train_loader,\n",
    "                melspec_train, config_stud.device, 7)\n",
    "\n",
    "    au_fa_fr = validation(student, val_loader,\n",
    "                          melspec_val, config_stud.device)\n",
    "    history['val_metric'].append(au_fa_fr)\n",
    "    if au_fa_fr < best_score:\n",
    "        best_score = au_fa_fr\n",
    "        best_epoch = n\n",
    "        state = student.state_dict()\n",
    "        torch.save(state, 'model4kl.pt')\n",
    "\n",
    "    clear_output()\n",
    "    plt.plot(history['val_metric'])\n",
    "    plt.ylabel('Metric')\n",
    "    plt.xlabel('Epoch')\n",
    "    plt.grid()\n",
    "    plt.show()\n",
    "\n",
    "    print(f'BEST SCORE: {best_score}')\n",
    "    print(f'BEST EPOCH: {best_epoch}')\n",
    "    print('END OF EPOCH', n)\n",
    "    if best_score <= 5.4e-5:\n",
    "        print('NIIIICE')\n",
    "        break"
   ]
  },
  {
   "cell_type": "code",
   "execution_count": null,
   "metadata": {
    "cellId": "mxw2qls5qiqzgexwvyalgs",
    "id": "wcUiGzj6W-jY"
   },
   "outputs": [],
   "source": [
    "config_stud = TaskConfig(cnn_out_channels=3, hidden_size = 10, gru_num_layers = 2, stride=(3, 10))\n",
    "setup_seed(1001)\n",
    "student = CRNN(config_stud).to(config_stud.device)\n",
    "print('size rate', SIZE / get_size_in_megabytes(student))\n",
    "macs, _ = profile(student, (batch, ))\n",
    "print('macs rate', MACS_CNT / macs )\n",
    "_ = student(batch)\n",
    "\n",
    "opt = torch.optim.Adam(\n",
    "    student.parameters(),\n",
    "    lr=config.learning_rate,\n",
    "    weight_decay=config.weight_decay\n",
    ")\n",
    "sum([p.numel() for p in student.parameters()])\n",
    "\n",
    "history = defaultdict(list)\n",
    "best_score = 100\n",
    "best_epoch = 0 \n",
    "setup_seed(1001)\n",
    "\n",
    "for n in range(30):\n",
    "\n",
    "    train_dist_epoch_mse(model, student, opt, train_loader,\n",
    "                melspec_train, config_stud.device, 7)\n",
    "\n",
    "    au_fa_fr = validation(student, val_loader,\n",
    "                          melspec_val, config_stud.device)\n",
    "    history['val_metric'].append(au_fa_fr)\n",
    "    if au_fa_fr < best_score:\n",
    "        best_score = au_fa_fr\n",
    "        best_epoch = n\n",
    "        state = student.state_dict()\n",
    "        torch.save(state, 'model4mse.pt')\n",
    "\n",
    "    clear_output()\n",
    "    plt.plot(history['val_metric'])\n",
    "    plt.ylabel('Metric')\n",
    "    plt.xlabel('Epoch')\n",
    "    plt.grid()\n",
    "    plt.show()\n",
    "\n",
    "    print(f'BEST SCORE: {best_score}')\n",
    "    print(f'BEST EPOCH: {best_epoch}')\n",
    "    print('END OF EPOCH', n)\n",
    "    if best_score <= 5.4e-5:\n",
    "        print('NIIIICE')"
   ]
  },
  {
   "cell_type": "markdown",
   "metadata": {
    "cellId": "wg16ws4bojo7g1z2v3zi4b",
    "execution_id": "4786afb9-8f44-40b0-8d06-07d6db464a5e",
    "id": "-hN3ul556cr3"
   },
   "source": [
    "# Model 5\n"
   ]
  },
  {
   "cell_type": "markdown",
   "metadata": {
    "cellId": "a2gw1tpw8on0jgckwop3rad",
    "execution_id": "c84f5721-b80f-4256-bf4e-4daff1462c82",
    "id": "_-Zdvq8zY8DK"
   },
   "source": [
    "Примерно тут (на самом деле раньше) мои усилия разделились на 2 нотбука \n",
    "\n",
    "В первом нотбуке (в этом) стратегия была в том, чтобы обучаться на cross entropy 10000 лет, но выбивать нормальное качество (и это работало). Во втором нотбуке (additional.ipynb) я хотел попробовать дистилировать по слоям. \n",
    "\n",
    "С первым всё +- понятно, я старался просто подбирать конфиг, и запускал на 10000 шагов, никаких фишек, ничего интересного, просто куча экспериментов с подбором гиперпараметров, поэтому поговорим про второй. \n",
    "\n",
    "Сразу определимся, модель - это большая модель, ученик - меньшая модель, её будем обучать по слоям. Идея была следующей, я хотел заменять большие слои маленькими по одному, соответственно для этого мне нужны были что то типо энкодеров-декодеров, чтобы я мог брать начало большой модели, пропускать через него картинку, пропускать выход через энкодер (чтобы он уменьшался), передавать блоку ученика, пропускать через декодер, а дальше пропускать через слои большой модели, таким образом обучить все слои ученика. Сначала я пытался обучить свёртку с большими страйдами, и меньшим ядром, (на mse loss между выходами), но ничего не работало. В качестве энкодеров (декодеров) я пробовал как Linear (до и после - решейпы), так и односвёрточные модели, но не завелось. Я также пробовал обучать гру, и это также не завелось. Я предположил, что проблема может быть в ненатуральности декодера, потому что мы 1) никак не используем уже обученные слои, 2) из за отличия трейна и инференса (когда мы будем использовать все слои ученика) может происходить накопление ошибки, и это плохо. Поэтому я решил изменить стратегию на следующую (пайплайн с кодом в нотбуке 2, Model 5): обучаем модель от выходов ко входу (от простого к сложному). В первую очередь как и в прошлый раз обучаем энкодер-декодер перед нужным слоем, которые будут отражат в (из) меншьую размерность. Далее используя энкодер, обучаем слой (в первую очередь классификатор). На следующем шаге опять же обучаем сначала энкодер-декодер перед слоем. После чего начинаем обучать слой следующим образом: пропускаем батч через ориг модель до этого слоя, далее (1) энкодим батч в меньшую размерность, пропускаем через обучаемый слой ученика, (2) исходный батч пропускам через тот же слой учителя, берём энкодер с ПРЕДЫДУЩЕГО шага, отражаем результат учителя в меньшую размерность (энкодером с прошлого шага), берём мсе от (1) и (2). Т.е. отличие от предыдущего подхода в том, что мы не используем декодер, и на практике это действительно помогло. Также была ещё идея на каждом шаге дообучать уже обученную часть ученика на обычном лоссе (cross entropy), т.к. предложенного пайплайна на маленькх моделях не хватало (сложно было обучать гру), но это я попробовать не успел.\n",
    "\n",
    "Т.к. с обучением свёртки методом 2 были проблемы, сновная идея была в том, чтобы увеличить скорость изменением свёртки методом 1, и применить данную модель как учитель в методе 2, чтобы уменьшить hidden size.\n",
    "\n",
    "Код описанного подхода (второго) можно найти в нотбуке additional.ipynb в секции Model 5"
   ]
  },
  {
   "cell_type": "code",
   "execution_count": null,
   "metadata": {
    "cellId": "fhq1s1jx8f84kmh218cqf",
    "id": "XaK85wvW6cr3"
   },
   "outputs": [],
   "source": [
    "#!c1.8\n",
    "def train_dist_epoch(teacher, student, opt, loader, log_melspec, device, temp):\n",
    "    student.train()\n",
    "    teacher.eval()\n",
    "    \n",
    "    for i, (batch, labels) in tqdm(enumerate(loader), total=len(loader)):\n",
    "        batch, labels = batch.to(device), labels.to(device)\n",
    "        batch = log_melspec(batch)\n",
    "\n",
    "        opt.zero_grad()\n",
    "\n",
    "        with torch.no_grad():\n",
    "            logits_teach = teacher(batch) / temp\n",
    "            probs_teach = F.softmax(logits_teach, dim=-1) \n",
    "        logits_stud = student(batch) / temp\n",
    "        probs_stud = F.softmax(logits_stud, dim=-1)\n",
    "        \n",
    "        loss = F.cross_entropy(logits_stud, probs_teach)\n",
    "        #loss = F.mse_loss(logits_teach, logits_stud)\n",
    "\n",
    "        loss.backward()\n",
    "        torch.nn.utils.clip_grad_norm_(student.parameters(), 5)\n",
    "\n",
    "        opt.step()\n",
    "\n",
    "        # logging\n",
    "        argmax_probs = torch.argmax(probs_stud, dim=-1)\n",
    "        FA, FR = count_FA_FR(argmax_probs, labels)\n",
    "        acc = torch.sum(argmax_probs == labels) / torch.numel(argmax_probs)\n",
    "\n",
    "    return acc"
   ]
  },
  {
   "cell_type": "code",
   "execution_count": null,
   "metadata": {
    "cellId": "rhuuutsxdja8k5nuee3clg",
    "id": "_0TYW5wk6cr4",
    "outputId": "266f1636-ebb9-40de-d76a-62340fe6ba37"
   },
   "outputs": [
    {
     "data": {
      "text/plain": [
       "<All keys matched successfully>"
      ]
     },
     "metadata": {},
     "output_type": "display_data"
    }
   ],
   "source": [
    "#!c1.8\n",
    "config = TaskConfig(hidden_size=32)\n",
    "model = CRNN(config).to(config.device)\n",
    "ckpt = torch.load('baseline.pt')\n",
    "model.load_state_dict(ckpt)"
   ]
  },
  {
   "cell_type": "code",
   "execution_count": null,
   "metadata": {
    "cellId": "fzowkatcgnu4liocbhohd",
    "id": "NQyXvty_6cr4",
    "outputId": "2645d796-326c-4c7b-9cae-76adcae6b63d"
   },
   "outputs": [
    {
     "name": "stderr",
     "output_type": "stream",
     "text": [
      "102it [00:09, 10.66it/s]\n"
     ]
    },
    {
     "data": {
      "text/plain": [
       "1.2609428038910201e-05"
      ]
     },
     "metadata": {},
     "output_type": "display_data"
    }
   ],
   "source": [
    "#!c1.8\n",
    "validation(model, val_loader,\n",
    "                          melspec_val, config_stud.device)"
   ]
  },
  {
   "cell_type": "code",
   "execution_count": null,
   "metadata": {
    "cellId": "8jt0y5ogzyqztmqk630du",
    "id": "Atm4I4zR6cr4",
    "outputId": "65bff7d4-f27d-4eae-e979-f81323ed0bae"
   },
   "outputs": [
    {
     "name": "stdout",
     "output_type": "stream",
     "text": [
      "size rate 9.642673064960455\n",
      "[INFO] Register count_convNd() for <class 'torch.nn.modules.conv.Conv2d'>.\n",
      "[INFO] Register zero_ops() for <class 'torch.nn.modules.container.Sequential'>.\n",
      "[INFO] Register count_gru() for <class 'torch.nn.modules.rnn.GRU'>.\n",
      "[INFO] Register count_linear() for <class 'torch.nn.modules.linear.Linear'>.\n",
      "macs rate 10.279930623203212\n"
     ]
    }
   ],
   "source": [
    "#!c1.8\n",
    "config_stud = TaskConfig(cnn_out_channels=3, hidden_size = 7, kernel_size=(5, 18), stride=(3, 10))\n",
    "setup_seed(42)\n",
    "student = CRNN(config_stud).to(config_stud.device)\n",
    "print('size rate', SIZE / get_size_in_megabytes(student))\n",
    "macs, _ = profile(student, (batch, ))\n",
    "print('macs rate', MACS_CNT / macs )\n",
    "_ = student(batch)"
   ]
  },
  {
   "cell_type": "code",
   "execution_count": null,
   "metadata": {
    "cellId": "rwdwojhhjx29uuaotndnm",
    "id": "q6MD1cz66cr4",
    "outputId": "102a0920-146f-461b-aa27-3e901cf016ce"
   },
   "outputs": [
    {
     "data": {
      "text/plain": [
       "1634"
      ]
     },
     "metadata": {},
     "output_type": "display_data"
    }
   ],
   "source": [
    "#!c1.8\n",
    "opt = torch.optim.Adam(\n",
    "    student.parameters(),\n",
    "    lr=config.learning_rate,\n",
    "    weight_decay=config.weight_decay\n",
    ")\n",
    "sum([p.numel() for p in student.parameters()])"
   ]
  },
  {
   "cell_type": "code",
   "execution_count": null,
   "metadata": {
    "cellId": "8mjfzet6y2esuiuzyskku",
    "execution_id": "bb5a944c-8280-422d-9fcc-2ae85b5393f4",
    "id": "5MakMDh76cr4",
    "outputId": "df5fc5c5-7b58-4536-c5fa-de4b9ba04e93"
   },
   "outputs": [
    {
     "name": "stdout",
     "output_type": "stream",
     "text": [
      "BEST SCORE: 9.206434030775537e-05\n",
      "BEST EPOCH: 176\n",
      "END OF EPOCH 178\n"
     ]
    },
    {
     "name": "stderr",
     "output_type": "stream",
     "text": [
      " 77%|███████▋  | 310/405 [00:39<00:09, 10.16it/s]"
     ]
    },
    {
     "data": {
      "image/png": "[encoded data removed]",
      "text/plain": [
       "<Figure size 432x288 with 1 Axes>"
      ]
     },
     "metadata": {
      "needs_background": "light"
     },
     "output_type": "display_data"
    }
   ],
   "source": [
    "#!c1.8\n",
    "history = defaultdict(list)\n",
    "best_score = 100\n",
    "best_epoch = 0 \n",
    "setup_seed(42)\n",
    "\n",
    "for n in range(400):\n",
    "\n",
    "    loss = train_dist_epoch(model, student, opt, train_loader,\n",
    "                melspec_train, config_stud.device, 7)\n",
    "\n",
    "    au_fa_fr = validation(student, val_loader,\n",
    "                          melspec_val, config_stud.device)\n",
    "    history['val_metric'].append(au_fa_fr)\n",
    "    if au_fa_fr < best_score:\n",
    "        best_score = au_fa_fr\n",
    "        best_epoch = n\n",
    "        state = student.state_dict()\n",
    "        torch.save(state, 'MEGAsuper.pt')\n",
    "\n",
    "    clear_output()\n",
    "    plt.plot(history['val_metric'])\n",
    "    plt.ylabel('Metric')\n",
    "    plt.xlabel('Epoch')\n",
    "    plt.grid()\n",
    "    plt.show()\n",
    "\n",
    "    #print(loss)\n",
    "    print(f'BEST SCORE: {best_score}')\n",
    "    print(f'BEST EPOCH: {best_epoch}')\n",
    "    print('END OF EPOCH', n)"
   ]
  },
  {
   "cell_type": "code",
   "execution_count": null,
   "metadata": {
    "cellId": "yfoxfi1i3wphhpxfziog6",
    "collapsed": true,
    "id": "WOOx7vxZ6cr5",
    "jupyter": {
     "outputs_hidden": true
    },
    "outputId": "abbb0542-bbd2-4be6-e743-756287682e77"
   },
   "outputs": [
    {
     "name": "stdout",
     "output_type": "stream",
     "text": [
      "BEST SCORE: 4.6552838680330565e-05\n",
      "BEST EPOCH: 366\n",
      "END OF EPOCH 382\n"
     ]
    },
    {
     "name": "stderr",
     "output_type": "stream",
     "text": [
      " 45%|████▌     | 184/405 [00:23<00:28,  7.69it/s]\n"
     ]
    },
    {
     "data": {
      "image/png": "[encoded data removed]",
      "text/plain": [
       "<Figure size 432x288 with 1 Axes>"
      ]
     },
     "metadata": {
      "needs_background": "light"
     },
     "output_type": "display_data"
    },
    {
     "ename": "KeyboardInterrupt",
     "evalue": "",
     "output_type": "error",
     "traceback": [
      "\u001b[0;31m---------------------------------------------------------------------------\u001b[0m",
      "\u001b[0;31mKeyboardInterrupt\u001b[0m                         Traceback (most recent call last)",
      "\u001b[0;32m<ipython-input-74-95c6042cc194>\u001b[0m in \u001b[0;36m<module>\u001b[0;34m\u001b[0m\n\u001b[1;32m     21\u001b[0m \u001b[0;32mfor\u001b[0m \u001b[0mn\u001b[0m \u001b[0;32min\u001b[0m \u001b[0mrange\u001b[0m\u001b[0;34m(\u001b[0m\u001b[0;36m400\u001b[0m\u001b[0;34m)\u001b[0m\u001b[0;34m:\u001b[0m\u001b[0;34m\u001b[0m\u001b[0;34m\u001b[0m\u001b[0m\n\u001b[1;32m     22\u001b[0m \u001b[0;34m\u001b[0m\u001b[0m\n\u001b[0;32m---> 23\u001b[0;31m     loss = train_dist_epoch(model, student, opt, train_loader,\n\u001b[0m\u001b[1;32m     24\u001b[0m                 melspec_train, config_stud.device, 7)\n\u001b[1;32m     25\u001b[0m \u001b[0;34m\u001b[0m\u001b[0m\n",
      "\u001b[0;32m<ipython-input-64-6200796d4e24>\u001b[0m in \u001b[0;36mtrain_dist_epoch\u001b[0;34m(teacher, student, opt, loader, log_melspec, device, temp)\u001b[0m\n\u001b[1;32m      3\u001b[0m     \u001b[0mteacher\u001b[0m\u001b[0;34m.\u001b[0m\u001b[0meval\u001b[0m\u001b[0;34m(\u001b[0m\u001b[0;34m)\u001b[0m\u001b[0;34m\u001b[0m\u001b[0;34m\u001b[0m\u001b[0m\n\u001b[1;32m      4\u001b[0m \u001b[0;34m\u001b[0m\u001b[0m\n\u001b[0;32m----> 5\u001b[0;31m     \u001b[0;32mfor\u001b[0m \u001b[0mi\u001b[0m\u001b[0;34m,\u001b[0m \u001b[0;34m(\u001b[0m\u001b[0mbatch\u001b[0m\u001b[0;34m,\u001b[0m \u001b[0mlabels\u001b[0m\u001b[0;34m)\u001b[0m \u001b[0;32min\u001b[0m \u001b[0mtqdm\u001b[0m\u001b[0;34m(\u001b[0m\u001b[0menumerate\u001b[0m\u001b[0;34m(\u001b[0m\u001b[0mloader\u001b[0m\u001b[0;34m)\u001b[0m\u001b[0;34m,\u001b[0m \u001b[0mtotal\u001b[0m\u001b[0;34m=\u001b[0m\u001b[0mlen\u001b[0m\u001b[0;34m(\u001b[0m\u001b[0mloader\u001b[0m\u001b[0;34m)\u001b[0m\u001b[0;34m)\u001b[0m\u001b[0;34m:\u001b[0m\u001b[0;34m\u001b[0m\u001b[0;34m\u001b[0m\u001b[0m\n\u001b[0m\u001b[1;32m      6\u001b[0m         \u001b[0mbatch\u001b[0m\u001b[0;34m,\u001b[0m \u001b[0mlabels\u001b[0m \u001b[0;34m=\u001b[0m \u001b[0mbatch\u001b[0m\u001b[0;34m.\u001b[0m\u001b[0mto\u001b[0m\u001b[0;34m(\u001b[0m\u001b[0mdevice\u001b[0m\u001b[0;34m)\u001b[0m\u001b[0;34m,\u001b[0m \u001b[0mlabels\u001b[0m\u001b[0;34m.\u001b[0m\u001b[0mto\u001b[0m\u001b[0;34m(\u001b[0m\u001b[0mdevice\u001b[0m\u001b[0;34m)\u001b[0m\u001b[0;34m\u001b[0m\u001b[0;34m\u001b[0m\u001b[0m\n\u001b[1;32m      7\u001b[0m         \u001b[0mbatch\u001b[0m \u001b[0;34m=\u001b[0m \u001b[0mlog_melspec\u001b[0m\u001b[0;34m(\u001b[0m\u001b[0mbatch\u001b[0m\u001b[0;34m)\u001b[0m\u001b[0;34m\u001b[0m\u001b[0;34m\u001b[0m\u001b[0m\n",
      "\u001b[0;32m/usr/local/lib/python3.8/dist-packages/tqdm/std.py\u001b[0m in \u001b[0;36m__iter__\u001b[0;34m(self)\u001b[0m\n\u001b[1;32m   1172\u001b[0m \u001b[0;34m\u001b[0m\u001b[0m\n\u001b[1;32m   1173\u001b[0m         \u001b[0;32mtry\u001b[0m\u001b[0;34m:\u001b[0m\u001b[0;34m\u001b[0m\u001b[0;34m\u001b[0m\u001b[0m\n\u001b[0;32m-> 1174\u001b[0;31m             \u001b[0;32mfor\u001b[0m \u001b[0mobj\u001b[0m \u001b[0;32min\u001b[0m \u001b[0miterable\u001b[0m\u001b[0;34m:\u001b[0m\u001b[0;34m\u001b[0m\u001b[0;34m\u001b[0m\u001b[0m\n\u001b[0m\u001b[1;32m   1175\u001b[0m                 \u001b[0;32myield\u001b[0m \u001b[0mobj\u001b[0m\u001b[0;34m\u001b[0m\u001b[0;34m\u001b[0m\u001b[0m\n\u001b[1;32m   1176\u001b[0m                 \u001b[0;31m# Update and possibly print the progressbar.\u001b[0m\u001b[0;34m\u001b[0m\u001b[0;34m\u001b[0m\u001b[0;34m\u001b[0m\u001b[0m\n",
      "\u001b[0;32m~/.local/lib/python3.8/site-packages/torch/utils/data/dataloader.py\u001b[0m in \u001b[0;36m__next__\u001b[0;34m(self)\u001b[0m\n\u001b[1;32m    528\u001b[0m             \u001b[0;32mif\u001b[0m \u001b[0mself\u001b[0m\u001b[0;34m.\u001b[0m\u001b[0m_sampler_iter\u001b[0m \u001b[0;32mis\u001b[0m \u001b[0;32mNone\u001b[0m\u001b[0;34m:\u001b[0m\u001b[0;34m\u001b[0m\u001b[0;34m\u001b[0m\u001b[0m\n\u001b[1;32m    529\u001b[0m                 \u001b[0mself\u001b[0m\u001b[0;34m.\u001b[0m\u001b[0m_reset\u001b[0m\u001b[0;34m(\u001b[0m\u001b[0;34m)\u001b[0m\u001b[0;34m\u001b[0m\u001b[0;34m\u001b[0m\u001b[0m\n\u001b[0;32m--> 530\u001b[0;31m             \u001b[0mdata\u001b[0m \u001b[0;34m=\u001b[0m \u001b[0mself\u001b[0m\u001b[0;34m.\u001b[0m\u001b[0m_next_data\u001b[0m\u001b[0;34m(\u001b[0m\u001b[0;34m)\u001b[0m\u001b[0;34m\u001b[0m\u001b[0;34m\u001b[0m\u001b[0m\n\u001b[0m\u001b[1;32m    531\u001b[0m             \u001b[0mself\u001b[0m\u001b[0;34m.\u001b[0m\u001b[0m_num_yielded\u001b[0m \u001b[0;34m+=\u001b[0m \u001b[0;36m1\u001b[0m\u001b[0;34m\u001b[0m\u001b[0;34m\u001b[0m\u001b[0m\n\u001b[1;32m    532\u001b[0m             \u001b[0;32mif\u001b[0m \u001b[0mself\u001b[0m\u001b[0;34m.\u001b[0m\u001b[0m_dataset_kind\u001b[0m \u001b[0;34m==\u001b[0m \u001b[0m_DatasetKind\u001b[0m\u001b[0;34m.\u001b[0m\u001b[0mIterable\u001b[0m \u001b[0;32mand\u001b[0m\u001b[0;31m \u001b[0m\u001b[0;31m\\\u001b[0m\u001b[0;34m\u001b[0m\u001b[0;34m\u001b[0m\u001b[0m\n",
      "\u001b[0;32m~/.local/lib/python3.8/site-packages/torch/utils/data/dataloader.py\u001b[0m in \u001b[0;36m_next_data\u001b[0;34m(self)\u001b[0m\n\u001b[1;32m   1205\u001b[0m \u001b[0;34m\u001b[0m\u001b[0m\n\u001b[1;32m   1206\u001b[0m             \u001b[0;32massert\u001b[0m \u001b[0;32mnot\u001b[0m \u001b[0mself\u001b[0m\u001b[0;34m.\u001b[0m\u001b[0m_shutdown\u001b[0m \u001b[0;32mand\u001b[0m \u001b[0mself\u001b[0m\u001b[0;34m.\u001b[0m\u001b[0m_tasks_outstanding\u001b[0m \u001b[0;34m>\u001b[0m \u001b[0;36m0\u001b[0m\u001b[0;34m\u001b[0m\u001b[0;34m\u001b[0m\u001b[0m\n\u001b[0;32m-> 1207\u001b[0;31m             \u001b[0midx\u001b[0m\u001b[0;34m,\u001b[0m \u001b[0mdata\u001b[0m \u001b[0;34m=\u001b[0m \u001b[0mself\u001b[0m\u001b[0;34m.\u001b[0m\u001b[0m_get_data\u001b[0m\u001b[0;34m(\u001b[0m\u001b[0;34m)\u001b[0m\u001b[0;34m\u001b[0m\u001b[0;34m\u001b[0m\u001b[0m\n\u001b[0m\u001b[1;32m   1208\u001b[0m             \u001b[0mself\u001b[0m\u001b[0;34m.\u001b[0m\u001b[0m_tasks_outstanding\u001b[0m \u001b[0;34m-=\u001b[0m \u001b[0;36m1\u001b[0m\u001b[0;34m\u001b[0m\u001b[0;34m\u001b[0m\u001b[0m\n\u001b[1;32m   1209\u001b[0m             \u001b[0;32mif\u001b[0m \u001b[0mself\u001b[0m\u001b[0;34m.\u001b[0m\u001b[0m_dataset_kind\u001b[0m \u001b[0;34m==\u001b[0m \u001b[0m_DatasetKind\u001b[0m\u001b[0;34m.\u001b[0m\u001b[0mIterable\u001b[0m\u001b[0;34m:\u001b[0m\u001b[0;34m\u001b[0m\u001b[0;34m\u001b[0m\u001b[0m\n",
      "\u001b[0;32m~/.local/lib/python3.8/site-packages/torch/utils/data/dataloader.py\u001b[0m in \u001b[0;36m_get_data\u001b[0;34m(self)\u001b[0m\n\u001b[1;32m   1171\u001b[0m         \u001b[0;32melse\u001b[0m\u001b[0;34m:\u001b[0m\u001b[0;34m\u001b[0m\u001b[0;34m\u001b[0m\u001b[0m\n\u001b[1;32m   1172\u001b[0m             \u001b[0;32mwhile\u001b[0m \u001b[0;32mTrue\u001b[0m\u001b[0;34m:\u001b[0m\u001b[0;34m\u001b[0m\u001b[0;34m\u001b[0m\u001b[0m\n\u001b[0;32m-> 1173\u001b[0;31m                 \u001b[0msuccess\u001b[0m\u001b[0;34m,\u001b[0m \u001b[0mdata\u001b[0m \u001b[0;34m=\u001b[0m \u001b[0mself\u001b[0m\u001b[0;34m.\u001b[0m\u001b[0m_try_get_data\u001b[0m\u001b[0;34m(\u001b[0m\u001b[0;34m)\u001b[0m\u001b[0;34m\u001b[0m\u001b[0;34m\u001b[0m\u001b[0m\n\u001b[0m\u001b[1;32m   1174\u001b[0m                 \u001b[0;32mif\u001b[0m \u001b[0msuccess\u001b[0m\u001b[0;34m:\u001b[0m\u001b[0;34m\u001b[0m\u001b[0;34m\u001b[0m\u001b[0m\n\u001b[1;32m   1175\u001b[0m                     \u001b[0;32mreturn\u001b[0m \u001b[0mdata\u001b[0m\u001b[0;34m\u001b[0m\u001b[0;34m\u001b[0m\u001b[0m\n",
      "\u001b[0;32m~/.local/lib/python3.8/site-packages/torch/utils/data/dataloader.py\u001b[0m in \u001b[0;36m_try_get_data\u001b[0;34m(self, timeout)\u001b[0m\n\u001b[1;32m   1009\u001b[0m         \u001b[0;31m#   (bool: whether successfully get data, any: data if successful else None)\u001b[0m\u001b[0;34m\u001b[0m\u001b[0;34m\u001b[0m\u001b[0;34m\u001b[0m\u001b[0m\n\u001b[1;32m   1010\u001b[0m         \u001b[0;32mtry\u001b[0m\u001b[0;34m:\u001b[0m\u001b[0;34m\u001b[0m\u001b[0;34m\u001b[0m\u001b[0m\n\u001b[0;32m-> 1011\u001b[0;31m             \u001b[0mdata\u001b[0m \u001b[0;34m=\u001b[0m \u001b[0mself\u001b[0m\u001b[0;34m.\u001b[0m\u001b[0m_data_queue\u001b[0m\u001b[0;34m.\u001b[0m\u001b[0mget\u001b[0m\u001b[0;34m(\u001b[0m\u001b[0mtimeout\u001b[0m\u001b[0;34m=\u001b[0m\u001b[0mtimeout\u001b[0m\u001b[0;34m)\u001b[0m\u001b[0;34m\u001b[0m\u001b[0;34m\u001b[0m\u001b[0m\n\u001b[0m\u001b[1;32m   1012\u001b[0m             \u001b[0;32mreturn\u001b[0m \u001b[0;34m(\u001b[0m\u001b[0;32mTrue\u001b[0m\u001b[0;34m,\u001b[0m \u001b[0mdata\u001b[0m\u001b[0;34m)\u001b[0m\u001b[0;34m\u001b[0m\u001b[0;34m\u001b[0m\u001b[0m\n\u001b[1;32m   1013\u001b[0m         \u001b[0;32mexcept\u001b[0m \u001b[0mException\u001b[0m \u001b[0;32mas\u001b[0m \u001b[0me\u001b[0m\u001b[0;34m:\u001b[0m\u001b[0;34m\u001b[0m\u001b[0;34m\u001b[0m\u001b[0m\n",
      "\u001b[0;32m/usr/lib/python3.8/multiprocessing/queues.py\u001b[0m in \u001b[0;36mget\u001b[0;34m(self, block, timeout)\u001b[0m\n\u001b[1;32m    105\u001b[0m                 \u001b[0;32mif\u001b[0m \u001b[0mblock\u001b[0m\u001b[0;34m:\u001b[0m\u001b[0;34m\u001b[0m\u001b[0;34m\u001b[0m\u001b[0m\n\u001b[1;32m    106\u001b[0m                     \u001b[0mtimeout\u001b[0m \u001b[0;34m=\u001b[0m \u001b[0mdeadline\u001b[0m \u001b[0;34m-\u001b[0m \u001b[0mtime\u001b[0m\u001b[0;34m.\u001b[0m\u001b[0mmonotonic\u001b[0m\u001b[0;34m(\u001b[0m\u001b[0;34m)\u001b[0m\u001b[0;34m\u001b[0m\u001b[0;34m\u001b[0m\u001b[0m\n\u001b[0;32m--> 107\u001b[0;31m                     \u001b[0;32mif\u001b[0m \u001b[0;32mnot\u001b[0m \u001b[0mself\u001b[0m\u001b[0;34m.\u001b[0m\u001b[0m_poll\u001b[0m\u001b[0;34m(\u001b[0m\u001b[0mtimeout\u001b[0m\u001b[0;34m)\u001b[0m\u001b[0;34m:\u001b[0m\u001b[0;34m\u001b[0m\u001b[0;34m\u001b[0m\u001b[0m\n\u001b[0m\u001b[1;32m    108\u001b[0m                         \u001b[0;32mraise\u001b[0m \u001b[0mEmpty\u001b[0m\u001b[0;34m\u001b[0m\u001b[0;34m\u001b[0m\u001b[0m\n\u001b[1;32m    109\u001b[0m                 \u001b[0;32melif\u001b[0m \u001b[0;32mnot\u001b[0m \u001b[0mself\u001b[0m\u001b[0;34m.\u001b[0m\u001b[0m_poll\u001b[0m\u001b[0;34m(\u001b[0m\u001b[0;34m)\u001b[0m\u001b[0;34m:\u001b[0m\u001b[0;34m\u001b[0m\u001b[0;34m\u001b[0m\u001b[0m\n",
      "\u001b[0;32m/usr/lib/python3.8/multiprocessing/connection.py\u001b[0m in \u001b[0;36mpoll\u001b[0;34m(self, timeout)\u001b[0m\n\u001b[1;32m    255\u001b[0m         \u001b[0mself\u001b[0m\u001b[0;34m.\u001b[0m\u001b[0m_check_closed\u001b[0m\u001b[0;34m(\u001b[0m\u001b[0;34m)\u001b[0m\u001b[0;34m\u001b[0m\u001b[0;34m\u001b[0m\u001b[0m\n\u001b[1;32m    256\u001b[0m         \u001b[0mself\u001b[0m\u001b[0;34m.\u001b[0m\u001b[0m_check_readable\u001b[0m\u001b[0;34m(\u001b[0m\u001b[0;34m)\u001b[0m\u001b[0;34m\u001b[0m\u001b[0;34m\u001b[0m\u001b[0m\n\u001b[0;32m--> 257\u001b[0;31m         \u001b[0;32mreturn\u001b[0m \u001b[0mself\u001b[0m\u001b[0;34m.\u001b[0m\u001b[0m_poll\u001b[0m\u001b[0;34m(\u001b[0m\u001b[0mtimeout\u001b[0m\u001b[0;34m)\u001b[0m\u001b[0;34m\u001b[0m\u001b[0;34m\u001b[0m\u001b[0m\n\u001b[0m\u001b[1;32m    258\u001b[0m \u001b[0;34m\u001b[0m\u001b[0m\n\u001b[1;32m    259\u001b[0m     \u001b[0;32mdef\u001b[0m \u001b[0m__enter__\u001b[0m\u001b[0;34m(\u001b[0m\u001b[0mself\u001b[0m\u001b[0;34m)\u001b[0m\u001b[0;34m:\u001b[0m\u001b[0;34m\u001b[0m\u001b[0;34m\u001b[0m\u001b[0m\n",
      "\u001b[0;32m/usr/lib/python3.8/multiprocessing/connection.py\u001b[0m in \u001b[0;36m_poll\u001b[0;34m(self, timeout)\u001b[0m\n\u001b[1;32m    422\u001b[0m \u001b[0;34m\u001b[0m\u001b[0m\n\u001b[1;32m    423\u001b[0m     \u001b[0;32mdef\u001b[0m \u001b[0m_poll\u001b[0m\u001b[0;34m(\u001b[0m\u001b[0mself\u001b[0m\u001b[0;34m,\u001b[0m \u001b[0mtimeout\u001b[0m\u001b[0;34m)\u001b[0m\u001b[0;34m:\u001b[0m\u001b[0;34m\u001b[0m\u001b[0;34m\u001b[0m\u001b[0m\n\u001b[0;32m--> 424\u001b[0;31m         \u001b[0mr\u001b[0m \u001b[0;34m=\u001b[0m \u001b[0mwait\u001b[0m\u001b[0;34m(\u001b[0m\u001b[0;34m[\u001b[0m\u001b[0mself\u001b[0m\u001b[0;34m]\u001b[0m\u001b[0;34m,\u001b[0m \u001b[0mtimeout\u001b[0m\u001b[0;34m)\u001b[0m\u001b[0;34m\u001b[0m\u001b[0;34m\u001b[0m\u001b[0m\n\u001b[0m\u001b[1;32m    425\u001b[0m         \u001b[0;32mreturn\u001b[0m \u001b[0mbool\u001b[0m\u001b[0;34m(\u001b[0m\u001b[0mr\u001b[0m\u001b[0;34m)\u001b[0m\u001b[0;34m\u001b[0m\u001b[0;34m\u001b[0m\u001b[0m\n\u001b[1;32m    426\u001b[0m \u001b[0;34m\u001b[0m\u001b[0m\n",
      "\u001b[0;32m/usr/lib/python3.8/multiprocessing/connection.py\u001b[0m in \u001b[0;36mwait\u001b[0;34m(object_list, timeout)\u001b[0m\n\u001b[1;32m    929\u001b[0m \u001b[0;34m\u001b[0m\u001b[0m\n\u001b[1;32m    930\u001b[0m             \u001b[0;32mwhile\u001b[0m \u001b[0;32mTrue\u001b[0m\u001b[0;34m:\u001b[0m\u001b[0;34m\u001b[0m\u001b[0;34m\u001b[0m\u001b[0m\n\u001b[0;32m--> 931\u001b[0;31m                 \u001b[0mready\u001b[0m \u001b[0;34m=\u001b[0m \u001b[0mselector\u001b[0m\u001b[0;34m.\u001b[0m\u001b[0mselect\u001b[0m\u001b[0;34m(\u001b[0m\u001b[0mtimeout\u001b[0m\u001b[0;34m)\u001b[0m\u001b[0;34m\u001b[0m\u001b[0;34m\u001b[0m\u001b[0m\n\u001b[0m\u001b[1;32m    932\u001b[0m                 \u001b[0;32mif\u001b[0m \u001b[0mready\u001b[0m\u001b[0;34m:\u001b[0m\u001b[0;34m\u001b[0m\u001b[0;34m\u001b[0m\u001b[0m\n\u001b[1;32m    933\u001b[0m                     \u001b[0;32mreturn\u001b[0m \u001b[0;34m[\u001b[0m\u001b[0mkey\u001b[0m\u001b[0;34m.\u001b[0m\u001b[0mfileobj\u001b[0m \u001b[0;32mfor\u001b[0m \u001b[0;34m(\u001b[0m\u001b[0mkey\u001b[0m\u001b[0;34m,\u001b[0m \u001b[0mevents\u001b[0m\u001b[0;34m)\u001b[0m \u001b[0;32min\u001b[0m \u001b[0mready\u001b[0m\u001b[0;34m]\u001b[0m\u001b[0;34m\u001b[0m\u001b[0;34m\u001b[0m\u001b[0m\n",
      "\u001b[0;32m/usr/lib/python3.8/selectors.py\u001b[0m in \u001b[0;36mselect\u001b[0;34m(self, timeout)\u001b[0m\n\u001b[1;32m    413\u001b[0m         \u001b[0mready\u001b[0m \u001b[0;34m=\u001b[0m \u001b[0;34m[\u001b[0m\u001b[0;34m]\u001b[0m\u001b[0;34m\u001b[0m\u001b[0;34m\u001b[0m\u001b[0m\n\u001b[1;32m    414\u001b[0m         \u001b[0;32mtry\u001b[0m\u001b[0;34m:\u001b[0m\u001b[0;34m\u001b[0m\u001b[0;34m\u001b[0m\u001b[0m\n\u001b[0;32m--> 415\u001b[0;31m             \u001b[0mfd_event_list\u001b[0m \u001b[0;34m=\u001b[0m \u001b[0mself\u001b[0m\u001b[0;34m.\u001b[0m\u001b[0m_selector\u001b[0m\u001b[0;34m.\u001b[0m\u001b[0mpoll\u001b[0m\u001b[0;34m(\u001b[0m\u001b[0mtimeout\u001b[0m\u001b[0;34m)\u001b[0m\u001b[0;34m\u001b[0m\u001b[0;34m\u001b[0m\u001b[0m\n\u001b[0m\u001b[1;32m    416\u001b[0m         \u001b[0;32mexcept\u001b[0m \u001b[0mInterruptedError\u001b[0m\u001b[0;34m:\u001b[0m\u001b[0;34m\u001b[0m\u001b[0;34m\u001b[0m\u001b[0m\n\u001b[1;32m    417\u001b[0m             \u001b[0;32mreturn\u001b[0m \u001b[0mready\u001b[0m\u001b[0;34m\u001b[0m\u001b[0;34m\u001b[0m\u001b[0m\n",
      "\u001b[0;31mKeyboardInterrupt\u001b[0m: "
     ]
    }
   ],
   "source": [
    "#!c1.8\n",
    "config_stud = TaskConfig(cnn_out_channels=3, hidden_size = 10, kernel_size=(4, 18), stride=(2, 14))\n",
    "setup_seed(42)\n",
    "student = CRNN(config_stud).to(config_stud.device)\n",
    "print('size rate', SIZE / get_size_in_megabytes(student))\n",
    "macs, _ = profile(student, (batch, ))\n",
    "print('macs rate', MACS_CNT / macs )\n",
    "_ = student(batch)\n",
    "\n",
    "opt = torch.optim.Adam(\n",
    "    student.parameters(),\n",
    "    lr=config.learning_rate,\n",
    "    weight_decay=config.weight_decay\n",
    ")\n",
    "sum([p.numel() for p in student.parameters()])\n",
    "\n",
    "history = defaultdict(list)\n",
    "best_score = 100\n",
    "best_epoch = 0 \n",
    "setup_seed(42)\n",
    "\n",
    "for n in range(400):\n",
    "\n",
    "    loss = train_dist_epoch(model, student, opt, train_loader,\n",
    "                melspec_train, config_stud.device, 7)\n",
    "\n",
    "    au_fa_fr = validation(student, val_loader,\n",
    "                          melspec_val, config_stud.device)\n",
    "    history['val_metric'].append(au_fa_fr)\n",
    "    if au_fa_fr < best_score:\n",
    "        best_score = au_fa_fr\n",
    "        best_epoch = n\n",
    "        state = student.state_dict()\n",
    "        torch.save(state, 'megasuper.pt')\n",
    "\n",
    "    clear_output()\n",
    "    plt.plot(history['val_metric'])\n",
    "    plt.ylabel('Metric')\n",
    "    plt.xlabel('Epoch')\n",
    "    plt.grid()\n",
    "    plt.show()\n",
    "\n",
    "    #print(loss)\n",
    "    print(f'BEST SCORE: {best_score}')\n",
    "    print(f'BEST EPOCH: {best_epoch}')\n",
    "    print('END OF EPOCH', n)"
   ]
  },
  {
   "cell_type": "markdown",
   "metadata": {
    "cellId": "5180d5jw4be1sq6nmlmx3j",
    "execution_id": "07d59fce-febf-4ce9-876b-48a3771b8b24",
    "id": "MCMJy4016cr7"
   },
   "source": [
    "# Model 6\n"
   ]
  },
  {
   "cell_type": "markdown",
   "metadata": {
    "cellId": "57gcvsw2hvysqxqzb903pi",
    "execution_id": "7a8ebb4b-4035-41a3-8e73-ea206dbdf0c3",
    "id": "Ob_reA4qgaba"
   },
   "source": [
    "В этом разделе я применю квантизацию к своей лучшей моделе (а получилась она из метода 1, потому что я не успеваю доууменьшить лучшую модель из 1 методом 2, а она обогнала предыдующую лучшую со 2 метода :с). Выбрал динамическую квантизацию, т.к. с ней можно будет квантизировать гру."
   ]
  },
  {
   "cell_type": "code",
   "execution_count": 30,
   "metadata": {
    "cellId": "oopaaorxoqc3r2rxvarngr",
    "colab": {
     "base_uri": "https://localhost:8080/"
    },
    "id": "t0gjykO2g7Pl",
    "outputId": "a844d826-29ca-48d9-9e8c-1456ed1c1a10"
   },
   "outputs": [
    {
     "name": "stdout",
     "output_type": "stream",
     "text": [
      "size rate 6.450805540693181\n",
      "[INFO] Register count_convNd() for <class 'torch.nn.modules.conv.Conv2d'>.\n",
      "[INFO] Register zero_ops() for <class 'torch.nn.modules.container.Sequential'>.\n",
      "[INFO] Register count_gru() for <class 'torch.nn.modules.rnn.GRU'>.\n",
      "[INFO] Register count_linear() for <class 'torch.nn.modules.linear.Linear'>.\n",
      "macs rate 10.174771893518955\n"
     ]
    }
   ],
   "source": [
    "#!c1.8\n",
    "config = TaskConfig(cnn_out_channels=3, hidden_size = 10, kernel_size=(4, 18), stride=(2, 14))\n",
    "model = CRNN(config).to(config.device)\n",
    "print('size rate', SIZE / get_size_in_megabytes(model))\n",
    "macs, _ = profile(model, (batch.to(config.device), ))\n",
    "print('macs rate', MACS_CNT / macs )"
   ]
  },
  {
   "cell_type": "code",
   "execution_count": 31,
   "metadata": {
    "cellId": "34oimx7xk1v9ogbstxd9zp",
    "colab": {
     "base_uri": "https://localhost:8080/"
    },
    "id": "DF8Prbafhl7H",
    "outputId": "4d75bc64-8fdb-4cde-c98b-8f8a2788759a"
   },
   "outputs": [
    {
     "data": {
      "text/plain": [
       "<All keys matched successfully>"
      ]
     },
     "execution_count": 31,
     "metadata": {},
     "output_type": "execute_result"
    }
   ],
   "source": [
    "#!c1.8\n",
    "ckpt = torch.load('megasuper.pt')\n",
    "model.load_state_dict(ckpt)"
   ]
  },
  {
   "cell_type": "code",
   "execution_count": 32,
   "metadata": {
    "cellId": "z8l0nmjdy9ojhsn3to0q",
    "colab": {
     "base_uri": "https://localhost:8080/"
    },
    "id": "qnpG2YxXh7dY",
    "outputId": "0bba70c1-56bb-4ed6-c2f0-7a496f2ed87b"
   },
   "outputs": [
    {
     "name": "stdout",
     "output_type": "stream",
     "text": [
      "size rate 5.719127180730512\n",
      "[INFO] Register count_convNd() for <class 'torch.nn.modules.conv.Conv2d'>.\n",
      "[INFO] Register zero_ops() for <class 'torch.nn.modules.container.Sequential'>.\n",
      "[INFO] Register count_gru() for <class 'torch.nn.modules.rnn.GRU'>.\n",
      "[INFO] Register count_linear() for <class 'torch.nn.modules.linear.Linear'>.\n",
      "macs rate 10.174771893518955\n"
     ]
    }
   ],
   "source": [
    "#!c1.8\n",
    "print('size rate', SIZE / get_size_in_megabytes(model))\n",
    "macs, _ = profile(model, (batch.to(config.device), ))\n",
    "print('macs rate', MACS_CNT / macs )"
   ]
  },
  {
   "cell_type": "code",
   "execution_count": 33,
   "metadata": {
    "cellId": "7ijqy71ez425ezj2qs7x9e",
    "colab": {
     "base_uri": "https://localhost:8080/"
    },
    "id": "x_DupulSiDAA",
    "outputId": "0252c1e9-5331-4c0e-d552-001ae0ab208e"
   },
   "outputs": [
    {
     "name": "stderr",
     "output_type": "stream",
     "text": [
      "102it [00:12,  8.45it/s]\n"
     ]
    },
    {
     "data": {
      "text/plain": [
       "5.092108350971166e-05"
      ]
     },
     "execution_count": 33,
     "metadata": {},
     "output_type": "execute_result"
    }
   ],
   "source": [
    "#!c1.8\n",
    "validation(model, val_loader,\n",
    "                          melspec_val, config.device)"
   ]
  },
  {
   "cell_type": "code",
   "execution_count": 34,
   "metadata": {
    "cellId": "khjes7tdmjdsaz89imu9c",
    "id": "nnrWdgaciW5o"
   },
   "outputs": [],
   "source": [
    "#!c1.8\n",
    "quantized = torch.quantization.quantize_dynamic(\n",
    "    model.cpu(), {nn.GRU, nn.Linear}, dtype=torch.qint8\n",
    ")"
   ]
  },
  {
   "cell_type": "code",
   "execution_count": 35,
   "metadata": {
    "cellId": "vyj0kmketmff0ggny0j5p",
    "colab": {
     "base_uri": "https://localhost:8080/"
    },
    "id": "LLnN4XKqjLV_",
    "outputId": "0af7d156-561a-4888-caf6-5d138745b89a"
   },
   "outputs": [
    {
     "name": "stdout",
     "output_type": "stream",
     "text": [
      "size rate 7.8430791470907115\n"
     ]
    }
   ],
   "source": [
    "#!c1.8\n",
    "print('size rate', SIZE / get_size_in_megabytes(quantized))"
   ]
  },
  {
   "cell_type": "code",
   "execution_count": 36,
   "metadata": {
    "cellId": "72f2jowe8kdqyousnam2te",
    "colab": {
     "base_uri": "https://localhost:8080/"
    },
    "id": "7lrccSY3jaBE",
    "outputId": "7eeeb195-802d-4447-99f3-c8569206d90f"
   },
   "outputs": [
    {
     "name": "stderr",
     "output_type": "stream",
     "text": [
      "102it [00:08, 11.84it/s]\n"
     ]
    },
    {
     "data": {
      "text/plain": [
       "5.394663013334037e-05"
      ]
     },
     "execution_count": 36,
     "metadata": {},
     "output_type": "execute_result"
    }
   ],
   "source": [
    "#!c1.8\n",
    "validation(quantized, val_loader,\n",
    "                          melspec_val, 'cpu')"
   ]
  },
  {
   "cell_type": "code",
   "execution_count": 75,
   "metadata": {
    "cellId": "7mqnvk3to6xghreo0ggl9"
   },
   "outputs": [],
   "source": [
    "#!c1.8\n",
    "state = quantized.state_dict()\n",
    "torch.save(state, 'quantized.pt')"
   ]
  },
  {
   "cell_type": "markdown",
   "metadata": {
    "cellId": "293frjgzl9sag3jxehilar",
    "execution_id": "cf0bb101-0c12-4afb-8918-cb84f9eb3238"
   },
   "source": [
    "Как видим, модель сжалась, качество чуть ухудшилось, но жить можно"
   ]
  },
  {
   "cell_type": "markdown",
   "metadata": {
    "cellId": "3i25h5jbc7c081tm58bvqwr",
    "execution_id": "b36d9c2e-42f8-4355-85fb-e85ce9c158b9"
   },
   "source": [
    "# Streaming model\n"
   ]
  },
  {
   "cell_type": "code",
   "execution_count": 37,
   "metadata": {
    "cellId": "1dccupdwjcee0kc0ug2rmm"
   },
   "outputs": [],
   "source": [
    "#!c1.8\n",
    "class Stream_model(nn.Module):\n",
    "    def __init__(self, base_model, mel_spec, max_window_length):\n",
    "        super().__init__()\n",
    "        self.base_model = base_model\n",
    "        self.base_model.eval()\n",
    "        \n",
    "        self.mel_spec = mel_spec\n",
    "        self.max_window_length = max_window_length\n",
    "        \n",
    "        self.buffer = torch.rand(10, 10)\n",
    "        self.last_hidden = torch.zeros(2, 1, 32)\n",
    "        self.buffer_exist = False\n",
    "        \n",
    "        self.softmax = nn.Softmax(dim=-1)\n",
    "    \n",
    "    def forward(self, x):\n",
    "        \n",
    "        with torch.no_grad():\n",
    "            mel_spec = self.mel_spec(x)\n",
    "\n",
    "            if self.buffer_exist: \n",
    "                self.buffer = torch.cat([self.buffer, mel_spec], dim=2)\n",
    "                self.buffer = self.buffer[:,:,-self.max_window_length * mel_spec.size(2):]\n",
    "            else:\n",
    "                self.buffer_exist = True\n",
    "                self.buffer = mel_spec\n",
    "\n",
    "            preds = self.make_preds()\n",
    "            return self.softmax(preds[0])[1]\n",
    "        \n",
    "    def make_preds(self):\n",
    "        input = self.buffer.unsqueeze(dim=1)\n",
    "        conv_output = self.base_model.conv(input).transpose(-1, -2)\n",
    "        gru_output, hidden = self.base_model.gru(conv_output)\n",
    "        self.last_hidden = hidden\n",
    "        contex_vector = self.base_model.attention(gru_output)\n",
    "        output = self.base_model.classifier(contex_vector)\n",
    "        return output   "
   ]
  },
  {
   "cell_type": "code",
   "execution_count": 39,
   "metadata": {
    "cellId": "9sxk09k11feyfoc1b1pej"
   },
   "outputs": [],
   "source": [
    "#!c1.8\n",
    "class LogMelspecModule(nn.Module):\n",
    "\n",
    "    def __init__(self, is_train, config):\n",
    "        super().__init__()\n",
    "        # with augmentations\n",
    "        if is_train:\n",
    "            self.melspec = nn.Sequential(\n",
    "                torchaudio.transforms.MelSpectrogram(\n",
    "                    sample_rate=config.sample_rate,\n",
    "                    n_fft=400,\n",
    "                    win_length=400,\n",
    "                    hop_length=160,\n",
    "                    n_mels=config.n_mels\n",
    "                ),\n",
    "                torchaudio.transforms.FrequencyMasking(freq_mask_param=15),\n",
    "                torchaudio.transforms.TimeMasking(time_mask_param=35),\n",
    "            ).to(config.device)\n",
    "\n",
    "        # no augmentations\n",
    "        else:\n",
    "            self.melspec = torchaudio.transforms.MelSpectrogram(\n",
    "                sample_rate=config.sample_rate,\n",
    "                n_fft=400,\n",
    "                win_length=400,\n",
    "                hop_length=160,\n",
    "                n_mels=config.n_mels\n",
    "            ).to(config.device)\n",
    "\n",
    "    def forward(self, batch):\n",
    "        # already on device\n",
    "        return torch.log(self.melspec(batch).clamp_(min=1e-9, max=1e9))"
   ]
  },
  {
   "cell_type": "code",
   "execution_count": 40,
   "metadata": {
    "cellId": "aabrp34pgkcmbpx2hvwnch"
   },
   "outputs": [],
   "source": [
    "#!c1.8\n",
    "melspec = LogMelspecModule(is_train=False, config=config)"
   ]
  },
  {
   "cell_type": "code",
   "execution_count": 41,
   "metadata": {
    "cellId": "h896urqyqojdgdxprc6d48"
   },
   "outputs": [],
   "source": [
    "#!c1.8\n",
    "stream = Stream_model(quantized, melspec, 3)\n",
    "m = torch.jit.script(stream)\n",
    "torch.jit.save(m, 'scriptmodule.pt')"
   ]
  },
  {
   "cell_type": "code",
   "execution_count": 42,
   "metadata": {
    "cellId": "95z7rysy5coebzej362qjg"
   },
   "outputs": [],
   "source": [
    "#!c1.8\n",
    "speech = torch.load('speech.pt')\n",
    "speech_true = torch.load('speech_true.pt')\n",
    "all_speech = torch.cat([speech, speech_true, speech], dim=0)"
   ]
  },
  {
   "cell_type": "code",
   "execution_count": 43,
   "metadata": {
    "cellId": "5z92qvl8e9eovmqn85xosl"
   },
   "outputs": [],
   "source": [
    "#!c1.8\n",
    "preds = []\n",
    "for chunk in all_speech:\n",
    "    preds.append(stream(chunk).item())"
   ]
  },
  {
   "cell_type": "code",
   "execution_count": 44,
   "metadata": {
    "cellId": "ij4ly30mmebm1293952ke"
   },
   "outputs": [
    {
     "data": {
      "text/plain": [
       "Text(0.5, 0, 'Номер чанка')"
      ]
     },
     "execution_count": 44,
     "metadata": {},
     "output_type": "execute_result"
    },
    {
     "data": {
      "image/png": "[encoded data removed]",
      "text/plain": [
       "<Figure size 432x288 with 1 Axes>"
      ]
     },
     "metadata": {
      "needs_background": "light"
     },
     "output_type": "display_data"
    }
   ],
   "source": [
    "#!c1.8\n",
    "import matplotlib.pyplot as plt\n",
    "\n",
    "plt.plot(preds)\n",
    "plt.axvline(x=len(speech), c='red')\n",
    "plt.axvline(x=len(speech) + len(speech_true), c='red')\n",
    "plt.ylabel('Вероятность фразы')\n",
    "plt.xlabel('Номер чанка')"
   ]
  },
  {
   "cell_type": "markdown",
   "metadata": {
    "cellId": "6jgeaf85j7j0ir8uegpnd",
    "execution_id": "c81f8d42-f06b-4d0a-b2ff-7eade52c9038"
   },
   "source": [
    "# Графички с моделями"
   ]
  },
  {
   "cell_type": "markdown",
   "metadata": {
    "cellId": "x2gx83idu7kftbaatqgpdg",
    "execution_id": "9220598c-5b97-4ee2-a1a7-98805c8da755"
   },
   "source": [
    "Здесь я взял свои наиболее успешные модели по ходу развития данного нотбука"
   ]
  },
  {
   "cell_type": "code",
   "execution_count": 48,
   "metadata": {
    "cellId": "6wx60a3nys4zagc42q5sql"
   },
   "outputs": [
    {
     "name": "stderr",
     "output_type": "stream",
     "text": [
      "102it [00:08, 11.55it/s]\n"
     ]
    },
    {
     "name": "stdout",
     "output_type": "stream",
     "text": [
      "[INFO] Register count_convNd() for <class 'torch.nn.modules.conv.Conv2d'>.\n",
      "[INFO] Register zero_ops() for <class 'torch.nn.modules.container.Sequential'>.\n",
      "[INFO] Register count_gru() for <class 'torch.nn.modules.rnn.GRU'>.\n",
      "[INFO] Register count_linear() for <class 'torch.nn.modules.linear.Linear'>.\n"
     ]
    }
   ],
   "source": [
    "#!c1.8\n",
    "sizes = []\n",
    "macs = []\n",
    "au_fa_fr = []\n",
    "\n",
    "config = TaskConfig(hidden_size=32)\n",
    "model = CRNN(config)\n",
    "ckpt = torch.load('pretrained/baseline.pt')\n",
    "model.load_state_dict(ckpt)\n",
    "\n",
    "score = validation(model, val_loader, melspec_val, 'cpu')\n",
    "size = get_size_in_megabytes(model)\n",
    "mac = profile(model, (batch, ))[0]\n",
    "\n",
    "sizes.append(size)\n",
    "macs.apend(mac)\n",
    "au_fa_fr.append(score)"
   ]
  },
  {
   "cell_type": "code",
   "execution_count": 53,
   "metadata": {
    "cellId": "972ehdplc4lgm16jleltz"
   },
   "outputs": [],
   "source": [
    "#!c1.8\n",
    "config = TaskConfig(cnn_out_channels=3, hidden_size = 14)\n",
    "model = CRNN(config)\n",
    "profile(model, (batch, ))\n",
    "ckpt = torch.load('pretrained/14_hidden.pt')\n",
    "model.load_state_dict(ckpt)\n",
    "\n",
    "score = validation(model, val_loader, melspec_val, 'cpu')\n",
    "print(score)\n",
    "size = get_size_in_megabytes(model)\n",
    "mac = profile(model, (batch, ))[0]\n",
    "\n",
    "sizes.append(size)\n",
    "macs.append(mac)\n",
    "au_fa_fr.append(score)"
   ]
  },
  {
   "cell_type": "code",
   "execution_count": 56,
   "metadata": {
    "cellId": "5rew92symgtxi79446qtwe"
   },
   "outputs": [
    {
     "name": "stdout",
     "output_type": "stream",
     "text": [
      "[INFO] Register count_convNd() for <class 'torch.nn.modules.conv.Conv2d'>.\n",
      "[INFO] Register zero_ops() for <class 'torch.nn.modules.container.Sequential'>.\n",
      "[INFO] Register count_gru() for <class 'torch.nn.modules.rnn.GRU'>.\n",
      "[INFO] Register count_linear() for <class 'torch.nn.modules.linear.Linear'>.\n"
     ]
    },
    {
     "name": "stderr",
     "output_type": "stream",
     "text": [
      "102it [00:08, 11.76it/s]\n"
     ]
    },
    {
     "name": "stdout",
     "output_type": "stream",
     "text": [
      "4.3998728315610466e-05\n",
      "[INFO] Register count_convNd() for <class 'torch.nn.modules.conv.Conv2d'>.\n",
      "[INFO] Register zero_ops() for <class 'torch.nn.modules.container.Sequential'>.\n",
      "[INFO] Register count_gru() for <class 'torch.nn.modules.rnn.GRU'>.\n",
      "[INFO] Register count_linear() for <class 'torch.nn.modules.linear.Linear'>.\n"
     ]
    }
   ],
   "source": [
    "#!c1.8\n",
    "config = TaskConfig(cnn_out_channels=3, hidden_size = 12, kernel_size=(4, 20), stride=(2, 14))\n",
    "model = CRNN(config)\n",
    "profile(model, (batch, ))\n",
    "ckpt = torch.load('pretrained/super.pt')\n",
    "model.load_state_dict(ckpt)\n",
    "\n",
    "score = validation(model, val_loader, melspec_val, 'cpu')\n",
    "print(score)\n",
    "size = get_size_in_megabytes(model)\n",
    "mac = profile(model, (batch, ))[0]\n",
    "\n",
    "sizes.append(size)\n",
    "macs.append(mac)\n",
    "au_fa_fr.append(score)"
   ]
  },
  {
   "cell_type": "code",
   "execution_count": 79,
   "metadata": {
    "cellId": "znnvcvf4o7ydj61f97nzf"
   },
   "outputs": [
    {
     "name": "stdout",
     "output_type": "stream",
     "text": [
      "[INFO] Register count_convNd() for <class 'torch.nn.modules.conv.Conv2d'>.\n",
      "[INFO] Register zero_ops() for <class 'torch.nn.modules.container.Sequential'>.\n",
      "[INFO] Register count_gru() for <class 'torch.nn.modules.rnn.GRU'>.\n",
      "[INFO] Register count_linear() for <class 'torch.nn.modules.linear.Linear'>.\n"
     ]
    },
    {
     "name": "stderr",
     "output_type": "stream",
     "text": [
      "102it [00:05, 18.22it/s]\n"
     ]
    },
    {
     "name": "stdout",
     "output_type": "stream",
     "text": [
      "5.394663013334037e-05\n",
      "[INFO] Register count_convNd() for <class 'torch.nn.modules.conv.Conv2d'>.\n",
      "[INFO] Register zero_ops() for <class 'torch.nn.modules.container.Sequential'>.\n"
     ]
    }
   ],
   "source": [
    "#!c1.8\n",
    "config = TaskConfig(cnn_out_channels=3, hidden_size = 10, kernel_size=(4, 18), stride=(2, 14))\n",
    "model = CRNN(config)\n",
    "profile(model, (batch, ))\n",
    "ckpt = torch.load('pretrained/megasuper.pt')\n",
    "model.load_state_dict(ckpt)\n",
    "model = torch.quantization.quantize_dynamic(model)\n",
    "\n",
    "score = validation(model, val_loader, melspec_val, 'cpu')\n",
    "print(score)\n",
    "size = get_size_in_megabytes(model)\n",
    "mac = profile(model, (batch, ))[0]\n",
    "\n",
    "sizes.append(size)\n",
    "macs.append(mac)\n",
    "au_fa_fr.append(score)"
   ]
  },
  {
   "cell_type": "code",
   "execution_count": 58,
   "metadata": {
    "cellId": "esllhk8cjvti96k679f2i"
   },
   "outputs": [
    {
     "name": "stderr",
     "output_type": "stream",
     "text": [
      "102it [00:03, 27.27it/s]\n"
     ]
    },
    {
     "name": "stdout",
     "output_type": "stream",
     "text": [
      "5.394663013334037e-05\n",
      "[INFO] Register count_convNd() for <class 'torch.nn.modules.conv.Conv2d'>.\n",
      "[INFO] Register zero_ops() for <class 'torch.nn.modules.container.Sequential'>.\n"
     ]
    }
   ],
   "source": [
    "#!c1.8\n",
    "config = TaskConfig(cnn_out_channels=3, hidden_size = 10, kernel_size=(4, 18), stride=(2, 14))\n",
    "model = CRNN(config)\n",
    "profile(model, (batch, ))\n",
    "ckpt = torch.load('pretrained/quantized.pt')\n",
    "model.load_state_dict(ckpt)\n",
    "\n",
    "score = validation(model, val_loader, melspec_val, 'cpu')\n",
    "print(score)\n",
    "size = get_size_in_megabytes(model)\n",
    "mac = profile(model, (batch, ))[0]\n",
    "\n",
    "#sizes.append(size)\n",
    "#macs.append(mac)\n",
    "#au_fa_fr.append(score)"
   ]
  },
  {
   "cell_type": "code",
   "execution_count": 83,
   "metadata": {
    "cellId": "tuvabi9xw6k4e5a9hx3sxm"
   },
   "outputs": [
    {
     "data": {
      "text/plain": [
       "<matplotlib.legend.Legend at 0x7f935bf7a760>"
      ]
     },
     "execution_count": 83,
     "metadata": {},
     "output_type": "execute_result"
    },
    {
     "data": {
      "image/png": "[encoded data removed]",
      "text/plain": [
       "<Figure size 1008x504 with 2 Axes>"
      ]
     },
     "metadata": {
      "needs_background": "light"
     },
     "output_type": "display_data"
    }
   ],
   "source": [
    "#!c1.8\n",
    "fig, axs = plt.subplots(1, 2, figsize=(14, 7))\n",
    "\n",
    "names = ['baseline', 'hidden14', 'best layer dist (2)', 'best dist (1)', 'quantized']\n",
    "for i in range(len(sizes)):\n",
    "    axs[0].scatter([macs[i]], [au_fa_fr[i]], label=names[i], s=100)\n",
    "    axs[1].scatter([sizes[i]], [au_fa_fr[i]], label=names[i], s=100)\n",
    "    \n",
    "axs[1].set_xlabel('sizes')\n",
    "axs[1].set_ylabel('au_fa_fr')\n",
    "axs[0].set_xlabel('macs')\n",
    "axs[0].set_ylabel('au_fa_fr')\n",
    "axs[1].legend()\n",
    "axs[1].grid()\n",
    "axs[0].grid()\n",
    "axs[0].legend()"
   ]
  },
  {
   "cell_type": "markdown",
   "metadata": {
    "cellId": "hoedg3amtjm18pqsz3tsrq",
    "id": "QRZB9KXyVvfa"
   },
   "source": [
    "### Reproduce"
   ]
  },
  {
   "cell_type": "code",
   "execution_count": null,
   "metadata": {
    "cellId": "dkxopi2t1ug6dxwvp3d5q",
    "id": "t55FUkOGh9pT"
   },
   "outputs": [],
   "source": [
    "history = defaultdict(list)\n",
    "config = TaskConfig(hidden_size=32)\n",
    "model = CRNN(config).to(config.device)\n",
    "\n",
    "print(model)\n",
    "\n",
    "opt = torch.optim.Adam(\n",
    "    model.parameters(),\n",
    "    lr=config.learning_rate,\n",
    "    weight_decay=config.weight_decay\n",
    ")"
   ]
  },
  {
   "cell_type": "code",
   "execution_count": null,
   "metadata": {
    "cellId": "v2ybyu8ak1lyoillol3ln",
    "id": "RqGOlKZbVt6j"
   },
   "outputs": [],
   "source": [
    "# TRAIN\n",
    "\n",
    "for n in range(TaskConfig.num_epochs):\n",
    "\n",
    "    train_epoch(model, opt, train_loader,\n",
    "                melspec_train, config.device)\n",
    "\n",
    "    au_fa_fr = validation(model, val_loader,\n",
    "                          melspec_val, config.device)\n",
    "    history['val_metric'].append(au_fa_fr)\n",
    "\n",
    "    clear_output()\n",
    "    plt.plot(history['val_metric'])\n",
    "    plt.ylabel('Metric')\n",
    "    plt.xlabel('Epoch')\n",
    "    plt.grid()\n",
    "    plt.show()\n",
    "\n",
    "    print('END OF EPOCH', n)"
   ]
  },
  {
   "cell_type": "code",
   "execution_count": 88,
   "metadata": {
    "cellId": "q6x0vvkxu3epzyt94gjpc",
    "id": "52G9D8SDV1Qa"
   },
   "outputs": [
    {
     "name": "stdout",
     "output_type": "stream",
     "text": [
      "On branch main\n",
      "Your branch is up to date with 'origin/main'.\n",
      "\n",
      "Untracked files:\n",
      "  (use \"git add <file>...\" to include in what will be committed)\n",
      "\n",
      "\t.ipynb_checkpoints/\n",
      "\tdlahw2.ipynb\n",
      "\tpretrained/\n",
      "\tspeech.pt\n",
      "\tspeech_true.pt\n",
      "\n",
      "nothing added to commit but untracked files present (use \"git add\" to track)\n"
     ]
    }
   ],
   "source": [
    "!git add dlahw2.ipynb pretrained"
   ]
  },
  {
   "cell_type": "code",
   "execution_count": null,
   "metadata": {
    "cellId": "gru3fi2cxrc2lkh2r65b9a"
   },
   "outputs": [],
   "source": []
  }
 ],
 "metadata": {
  "accelerator": "GPU",
  "colab": {
   "collapsed_sections": [],
   "provenance": []
  },
  "gpuClass": "standard",
  "language_info": {
   "codemirror_mode": {
    "name": "ipython",
    "version": 3
   },
   "file_extension": ".py",
   "mimetype": "text/x-python",
   "name": "python",
   "nbconvert_exporter": "python",
   "pygments_lexer": "ipython3",
   "version": "3.7.7"
  },
  "notebookId": "ef7050e7-9f1c-447f-8782-30ff2eb23439",
  "notebookPath": "dla/hw2_kws/dlahw2_(1).ipynb"
 },
 "nbformat": 4,
 "nbformat_minor": 4
}
